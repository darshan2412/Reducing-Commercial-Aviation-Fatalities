{
 "cells": [
  {
   "cell_type": "code",
   "execution_count": 1,
   "metadata": {},
   "outputs": [],
   "source": [
    "import warnings\n",
    "warnings.filterwarnings(\"ignore\")\n",
    "import os\n",
    "import pandas as pd\n",
    "import numpy as np\n",
    "import dask.dataframe as dd\n",
    "from tqdm import tqdm\n",
    "import matplotlib.pyplot as plt\n",
    "import seaborn as sns\n",
    "from scipy import signal,stats,interpolate\n",
    "from biosppy.signals import ecg,resp,eda,eeg\n",
    "from multiprocessing import Pool\n",
    "from sklearn.preprocessing import OneHotEncoder\n",
    "import pickle\n",
    "from sklearn.model_selection import train_test_split\n",
    "from sklearn.preprocessing import StandardScaler\n",
    "from sklearn.utils.class_weight import compute_class_weight\n",
    "from sklearn.metrics import log_loss,confusion_matrix\n",
    "from sklearn.linear_model import LogisticRegression\n",
    "from sklearn.calibration import CalibratedClassifierCV\n",
    "from sklearn.naive_bayes import GaussianNB\n",
    "from sklearn.tree import DecisionTreeClassifier\n",
    "from sklearn.ensemble import RandomForestClassifier, AdaBoostClassifier\n",
    "from sklearn.feature_selection import SelectFromModel\n",
    "from sklearn.neighbors import KNeighborsClassifier\n",
    "from xgboost import XGBClassifier\n",
    "import lightgbm as lgb\n",
    "from catboost import CatBoostClassifier"
   ]
  },
  {
   "cell_type": "code",
   "execution_count": 2,
   "metadata": {},
   "outputs": [],
   "source": [
    "def reduce_mem_usage(df):\n",
    "    # Function to reduce memory usage of a pandas dataframe\n",
    "    # https://www.kaggle.com/arjanso/reducing-dataframe-memory-size-by-65\n",
    "    start_mem = df.memory_usage().sum() / 1024**2\n",
    "    for col in df.columns:\n",
    "        col_type = df[col].dtype\n",
    "        \n",
    "        if col_type != object:\n",
    "            c_min = df[col].min()\n",
    "            c_max = df[col].max()\n",
    "            if str(col_type)[:3] == 'int':\n",
    "                if c_min > np.iinfo(np.int8).min and c_max < np.iinfo(np.int8).max:\n",
    "                    df[col] = df[col].astype(np.int8)\n",
    "                elif c_min > np.iinfo(np.int16).min and c_max < np.iinfo(np.int16).max:\n",
    "                    df[col] = df[col].astype(np.int16)\n",
    "                elif c_min > np.iinfo(np.int32).min and c_max < np.iinfo(np.int32).max:\n",
    "                    df[col] = df[col].astype(np.int32)\n",
    "                elif c_min > np.iinfo(np.int64).min and c_max < np.iinfo(np.int64).max:\n",
    "                    df[col] = df[col].astype(np.int64)  \n",
    "            else:\n",
    "                if c_min > np.finfo(np.float16).min and c_max < np.finfo(np.float16).max:\n",
    "                    df[col] = df[col].astype(np.float16)\n",
    "                elif c_min > np.finfo(np.float32).min and c_max < np.finfo(np.float32).max:\n",
    "                    df[col] = df[col].astype(np.float32)\n",
    "                else:\n",
    "                    df[col] = df[col].astype(np.float64)\n",
    "        else:\n",
    "            df[col] = df[col].astype('category')\n",
    "    end_mem = df.memory_usage().sum() / 1024**2\n",
    "    return df"
   ]
  },
  {
   "cell_type": "markdown",
   "metadata": {},
   "source": [
    "# Reading train and test data"
   ]
  },
  {
   "cell_type": "code",
   "execution_count": 3,
   "metadata": {},
   "outputs": [
    {
     "data": {
      "text/html": [
       "<div>\n",
       "<style scoped>\n",
       "    .dataframe tbody tr th:only-of-type {\n",
       "        vertical-align: middle;\n",
       "    }\n",
       "\n",
       "    .dataframe tbody tr th {\n",
       "        vertical-align: top;\n",
       "    }\n",
       "\n",
       "    .dataframe thead th {\n",
       "        text-align: right;\n",
       "    }\n",
       "</style>\n",
       "<table border=\"1\" class=\"dataframe\">\n",
       "  <thead>\n",
       "    <tr style=\"text-align: right;\">\n",
       "      <th></th>\n",
       "      <th>crew</th>\n",
       "      <th>experiment</th>\n",
       "      <th>time</th>\n",
       "      <th>seat</th>\n",
       "      <th>eeg_fp1</th>\n",
       "      <th>eeg_f7</th>\n",
       "      <th>eeg_f8</th>\n",
       "      <th>eeg_t4</th>\n",
       "      <th>eeg_t6</th>\n",
       "      <th>eeg_t5</th>\n",
       "      <th>...</th>\n",
       "      <th>eeg_c4</th>\n",
       "      <th>eeg_p4</th>\n",
       "      <th>eeg_poz</th>\n",
       "      <th>eeg_c3</th>\n",
       "      <th>eeg_cz</th>\n",
       "      <th>eeg_o2</th>\n",
       "      <th>ecg</th>\n",
       "      <th>r</th>\n",
       "      <th>gsr</th>\n",
       "      <th>event</th>\n",
       "    </tr>\n",
       "  </thead>\n",
       "  <tbody>\n",
       "    <tr>\n",
       "      <th>0</th>\n",
       "      <td>1</td>\n",
       "      <td>CA</td>\n",
       "      <td>0.011719</td>\n",
       "      <td>1</td>\n",
       "      <td>-5.28545</td>\n",
       "      <td>26.775801</td>\n",
       "      <td>-9.527310</td>\n",
       "      <td>-12.793200</td>\n",
       "      <td>16.717800</td>\n",
       "      <td>33.737499</td>\n",
       "      <td>...</td>\n",
       "      <td>37.368999</td>\n",
       "      <td>17.437599</td>\n",
       "      <td>19.201900</td>\n",
       "      <td>20.5968</td>\n",
       "      <td>-3.95115</td>\n",
       "      <td>14.507600</td>\n",
       "      <td>-4520.0</td>\n",
       "      <td>817.705994</td>\n",
       "      <td>388.829987</td>\n",
       "      <td>A</td>\n",
       "    </tr>\n",
       "    <tr>\n",
       "      <th>1</th>\n",
       "      <td>1</td>\n",
       "      <td>CA</td>\n",
       "      <td>0.015625</td>\n",
       "      <td>1</td>\n",
       "      <td>-2.42842</td>\n",
       "      <td>28.430901</td>\n",
       "      <td>-9.323510</td>\n",
       "      <td>-3.757230</td>\n",
       "      <td>15.969300</td>\n",
       "      <td>30.443600</td>\n",
       "      <td>...</td>\n",
       "      <td>31.170799</td>\n",
       "      <td>19.399700</td>\n",
       "      <td>19.689501</td>\n",
       "      <td>21.3547</td>\n",
       "      <td>1.33212</td>\n",
       "      <td>17.750200</td>\n",
       "      <td>-4520.0</td>\n",
       "      <td>817.705994</td>\n",
       "      <td>388.829987</td>\n",
       "      <td>A</td>\n",
       "    </tr>\n",
       "    <tr>\n",
       "      <th>2</th>\n",
       "      <td>1</td>\n",
       "      <td>CA</td>\n",
       "      <td>0.019531</td>\n",
       "      <td>1</td>\n",
       "      <td>10.67150</td>\n",
       "      <td>30.420200</td>\n",
       "      <td>15.350700</td>\n",
       "      <td>24.724001</td>\n",
       "      <td>16.143101</td>\n",
       "      <td>32.142799</td>\n",
       "      <td>...</td>\n",
       "      <td>-12.012600</td>\n",
       "      <td>19.396299</td>\n",
       "      <td>23.171700</td>\n",
       "      <td>22.4076</td>\n",
       "      <td>1.53786</td>\n",
       "      <td>22.247000</td>\n",
       "      <td>-4520.0</td>\n",
       "      <td>817.705994</td>\n",
       "      <td>388.829987</td>\n",
       "      <td>A</td>\n",
       "    </tr>\n",
       "    <tr>\n",
       "      <th>3</th>\n",
       "      <td>1</td>\n",
       "      <td>CA</td>\n",
       "      <td>0.023438</td>\n",
       "      <td>1</td>\n",
       "      <td>11.45250</td>\n",
       "      <td>25.609800</td>\n",
       "      <td>2.433080</td>\n",
       "      <td>12.412500</td>\n",
       "      <td>20.533300</td>\n",
       "      <td>31.494101</td>\n",
       "      <td>...</td>\n",
       "      <td>18.574100</td>\n",
       "      <td>23.156401</td>\n",
       "      <td>22.641199</td>\n",
       "      <td>19.3367</td>\n",
       "      <td>2.54492</td>\n",
       "      <td>18.998600</td>\n",
       "      <td>-4520.0</td>\n",
       "      <td>817.705994</td>\n",
       "      <td>388.829987</td>\n",
       "      <td>A</td>\n",
       "    </tr>\n",
       "    <tr>\n",
       "      <th>4</th>\n",
       "      <td>1</td>\n",
       "      <td>CA</td>\n",
       "      <td>0.027344</td>\n",
       "      <td>1</td>\n",
       "      <td>7.28321</td>\n",
       "      <td>25.942600</td>\n",
       "      <td>0.113564</td>\n",
       "      <td>5.748000</td>\n",
       "      <td>19.833599</td>\n",
       "      <td>28.753599</td>\n",
       "      <td>...</td>\n",
       "      <td>6.555440</td>\n",
       "      <td>22.754700</td>\n",
       "      <td>22.670300</td>\n",
       "      <td>20.2932</td>\n",
       "      <td>1.69962</td>\n",
       "      <td>22.812799</td>\n",
       "      <td>-4520.0</td>\n",
       "      <td>817.705994</td>\n",
       "      <td>388.829987</td>\n",
       "      <td>A</td>\n",
       "    </tr>\n",
       "  </tbody>\n",
       "</table>\n",
       "<p>5 rows × 28 columns</p>\n",
       "</div>"
      ],
      "text/plain": [
       "   crew experiment      time  seat   eeg_fp1     eeg_f7     eeg_f8     eeg_t4  \\\n",
       "0     1         CA  0.011719     1  -5.28545  26.775801  -9.527310 -12.793200   \n",
       "1     1         CA  0.015625     1  -2.42842  28.430901  -9.323510  -3.757230   \n",
       "2     1         CA  0.019531     1  10.67150  30.420200  15.350700  24.724001   \n",
       "3     1         CA  0.023438     1  11.45250  25.609800   2.433080  12.412500   \n",
       "4     1         CA  0.027344     1   7.28321  25.942600   0.113564   5.748000   \n",
       "\n",
       "      eeg_t6     eeg_t5  ...     eeg_c4     eeg_p4    eeg_poz   eeg_c3  \\\n",
       "0  16.717800  33.737499  ...  37.368999  17.437599  19.201900  20.5968   \n",
       "1  15.969300  30.443600  ...  31.170799  19.399700  19.689501  21.3547   \n",
       "2  16.143101  32.142799  ... -12.012600  19.396299  23.171700  22.4076   \n",
       "3  20.533300  31.494101  ...  18.574100  23.156401  22.641199  19.3367   \n",
       "4  19.833599  28.753599  ...   6.555440  22.754700  22.670300  20.2932   \n",
       "\n",
       "    eeg_cz     eeg_o2     ecg           r         gsr  event  \n",
       "0 -3.95115  14.507600 -4520.0  817.705994  388.829987      A  \n",
       "1  1.33212  17.750200 -4520.0  817.705994  388.829987      A  \n",
       "2  1.53786  22.247000 -4520.0  817.705994  388.829987      A  \n",
       "3  2.54492  18.998600 -4520.0  817.705994  388.829987      A  \n",
       "4  1.69962  22.812799 -4520.0  817.705994  388.829987      A  \n",
       "\n",
       "[5 rows x 28 columns]"
      ]
     },
     "execution_count": 3,
     "metadata": {},
     "output_type": "execute_result"
    }
   ],
   "source": [
    "df_train = dd.read_csv('train.csv')\n",
    "df_train.head()"
   ]
  },
  {
   "cell_type": "code",
   "execution_count": 4,
   "metadata": {},
   "outputs": [
    {
     "data": {
      "text/html": [
       "<div>\n",
       "<style scoped>\n",
       "    .dataframe tbody tr th:only-of-type {\n",
       "        vertical-align: middle;\n",
       "    }\n",
       "\n",
       "    .dataframe tbody tr th {\n",
       "        vertical-align: top;\n",
       "    }\n",
       "\n",
       "    .dataframe thead th {\n",
       "        text-align: right;\n",
       "    }\n",
       "</style>\n",
       "<table border=\"1\" class=\"dataframe\">\n",
       "  <thead>\n",
       "    <tr style=\"text-align: right;\">\n",
       "      <th></th>\n",
       "      <th>id</th>\n",
       "      <th>crew</th>\n",
       "      <th>experiment</th>\n",
       "      <th>time</th>\n",
       "      <th>seat</th>\n",
       "      <th>eeg_fp1</th>\n",
       "      <th>eeg_f7</th>\n",
       "      <th>eeg_f8</th>\n",
       "      <th>eeg_t4</th>\n",
       "      <th>eeg_t6</th>\n",
       "      <th>...</th>\n",
       "      <th>eeg_f4</th>\n",
       "      <th>eeg_c4</th>\n",
       "      <th>eeg_p4</th>\n",
       "      <th>eeg_poz</th>\n",
       "      <th>eeg_c3</th>\n",
       "      <th>eeg_cz</th>\n",
       "      <th>eeg_o2</th>\n",
       "      <th>ecg</th>\n",
       "      <th>r</th>\n",
       "      <th>gsr</th>\n",
       "    </tr>\n",
       "  </thead>\n",
       "  <tbody>\n",
       "    <tr>\n",
       "      <th>0</th>\n",
       "      <td>0</td>\n",
       "      <td>1</td>\n",
       "      <td>LOFT</td>\n",
       "      <td>0.000000</td>\n",
       "      <td>0</td>\n",
       "      <td>17.899500</td>\n",
       "      <td>6.127830</td>\n",
       "      <td>0.994807</td>\n",
       "      <td>-28.206200</td>\n",
       "      <td>-47.695499</td>\n",
       "      <td>...</td>\n",
       "      <td>-7.044480</td>\n",
       "      <td>-14.405100</td>\n",
       "      <td>-4.03384</td>\n",
       "      <td>-0.393799</td>\n",
       "      <td>31.83810</td>\n",
       "      <td>17.075600</td>\n",
       "      <td>-8.137350</td>\n",
       "      <td>-7323.120117</td>\n",
       "      <td>643.177002</td>\n",
       "      <td>594.778992</td>\n",
       "    </tr>\n",
       "    <tr>\n",
       "      <th>1</th>\n",
       "      <td>1</td>\n",
       "      <td>1</td>\n",
       "      <td>LOFT</td>\n",
       "      <td>0.000000</td>\n",
       "      <td>1</td>\n",
       "      <td>45.883202</td>\n",
       "      <td>94.749001</td>\n",
       "      <td>23.290800</td>\n",
       "      <td>1.392000</td>\n",
       "      <td>2.060940</td>\n",
       "      <td>...</td>\n",
       "      <td>19.887501</td>\n",
       "      <td>-215.179001</td>\n",
       "      <td>2.11832</td>\n",
       "      <td>7.340940</td>\n",
       "      <td>9.66785</td>\n",
       "      <td>1169.239990</td>\n",
       "      <td>-0.024414</td>\n",
       "      <td>-3335.080078</td>\n",
       "      <td>826.724976</td>\n",
       "      <td>136.235001</td>\n",
       "    </tr>\n",
       "    <tr>\n",
       "      <th>2</th>\n",
       "      <td>2</td>\n",
       "      <td>1</td>\n",
       "      <td>LOFT</td>\n",
       "      <td>0.003906</td>\n",
       "      <td>0</td>\n",
       "      <td>33.120098</td>\n",
       "      <td>28.356501</td>\n",
       "      <td>-7.239220</td>\n",
       "      <td>-7.690860</td>\n",
       "      <td>-25.833799</td>\n",
       "      <td>...</td>\n",
       "      <td>-7.642560</td>\n",
       "      <td>-10.363600</td>\n",
       "      <td>10.95050</td>\n",
       "      <td>6.513360</td>\n",
       "      <td>36.01860</td>\n",
       "      <td>24.356600</td>\n",
       "      <td>0.956158</td>\n",
       "      <td>-7323.120117</td>\n",
       "      <td>643.177002</td>\n",
       "      <td>594.778992</td>\n",
       "    </tr>\n",
       "    <tr>\n",
       "      <th>3</th>\n",
       "      <td>3</td>\n",
       "      <td>1</td>\n",
       "      <td>LOFT</td>\n",
       "      <td>0.003906</td>\n",
       "      <td>1</td>\n",
       "      <td>43.280102</td>\n",
       "      <td>95.887001</td>\n",
       "      <td>18.702299</td>\n",
       "      <td>-1.432890</td>\n",
       "      <td>-4.232600</td>\n",
       "      <td>...</td>\n",
       "      <td>13.826600</td>\n",
       "      <td>-214.223007</td>\n",
       "      <td>-4.91354</td>\n",
       "      <td>3.504520</td>\n",
       "      <td>3.87811</td>\n",
       "      <td>1159.400024</td>\n",
       "      <td>-0.047607</td>\n",
       "      <td>-3335.080078</td>\n",
       "      <td>826.724976</td>\n",
       "      <td>136.235001</td>\n",
       "    </tr>\n",
       "    <tr>\n",
       "      <th>4</th>\n",
       "      <td>4</td>\n",
       "      <td>1</td>\n",
       "      <td>LOFT</td>\n",
       "      <td>0.007812</td>\n",
       "      <td>0</td>\n",
       "      <td>7.929110</td>\n",
       "      <td>3.460380</td>\n",
       "      <td>-10.860800</td>\n",
       "      <td>-26.366699</td>\n",
       "      <td>-25.894699</td>\n",
       "      <td>...</td>\n",
       "      <td>2.045450</td>\n",
       "      <td>-20.788799</td>\n",
       "      <td>-3.61418</td>\n",
       "      <td>-7.539830</td>\n",
       "      <td>3.08397</td>\n",
       "      <td>13.647900</td>\n",
       "      <td>1.473720</td>\n",
       "      <td>-7323.120117</td>\n",
       "      <td>643.177002</td>\n",
       "      <td>594.778992</td>\n",
       "    </tr>\n",
       "  </tbody>\n",
       "</table>\n",
       "<p>5 rows × 28 columns</p>\n",
       "</div>"
      ],
      "text/plain": [
       "   id  crew experiment      time  seat    eeg_fp1     eeg_f7     eeg_f8  \\\n",
       "0   0     1       LOFT  0.000000     0  17.899500   6.127830   0.994807   \n",
       "1   1     1       LOFT  0.000000     1  45.883202  94.749001  23.290800   \n",
       "2   2     1       LOFT  0.003906     0  33.120098  28.356501  -7.239220   \n",
       "3   3     1       LOFT  0.003906     1  43.280102  95.887001  18.702299   \n",
       "4   4     1       LOFT  0.007812     0   7.929110   3.460380 -10.860800   \n",
       "\n",
       "      eeg_t4     eeg_t6  ...     eeg_f4      eeg_c4    eeg_p4   eeg_poz  \\\n",
       "0 -28.206200 -47.695499  ...  -7.044480  -14.405100  -4.03384 -0.393799   \n",
       "1   1.392000   2.060940  ...  19.887501 -215.179001   2.11832  7.340940   \n",
       "2  -7.690860 -25.833799  ...  -7.642560  -10.363600  10.95050  6.513360   \n",
       "3  -1.432890  -4.232600  ...  13.826600 -214.223007  -4.91354  3.504520   \n",
       "4 -26.366699 -25.894699  ...   2.045450  -20.788799  -3.61418 -7.539830   \n",
       "\n",
       "     eeg_c3       eeg_cz    eeg_o2          ecg           r         gsr  \n",
       "0  31.83810    17.075600 -8.137350 -7323.120117  643.177002  594.778992  \n",
       "1   9.66785  1169.239990 -0.024414 -3335.080078  826.724976  136.235001  \n",
       "2  36.01860    24.356600  0.956158 -7323.120117  643.177002  594.778992  \n",
       "3   3.87811  1159.400024 -0.047607 -3335.080078  826.724976  136.235001  \n",
       "4   3.08397    13.647900  1.473720 -7323.120117  643.177002  594.778992  \n",
       "\n",
       "[5 rows x 28 columns]"
      ]
     },
     "execution_count": 4,
     "metadata": {},
     "output_type": "execute_result"
    }
   ],
   "source": [
    "df_test = dd.read_csv('test.csv')\n",
    "df_test.head()"
   ]
  },
  {
   "cell_type": "markdown",
   "metadata": {},
   "source": [
    "# Preprocessing"
   ]
  },
  {
   "cell_type": "markdown",
   "metadata": {},
   "source": [
    "We will be doing label encoding for target classes, to represent them as integers"
   ]
  },
  {
   "cell_type": "code",
   "execution_count": 5,
   "metadata": {},
   "outputs": [],
   "source": [
    "event_mapping = {'A': 0, 'C': 1, 'D': 2, 'B': 3}\n",
    "df_train['event'] = df_train['event'].map(event_mapping)"
   ]
  },
  {
   "cell_type": "markdown",
   "metadata": {},
   "source": [
    "The column 'experiment' is also needed to be represented as a numerical value, so that we can identify the data belonging to a particular pilot in a particular experiment"
   ]
  },
  {
   "cell_type": "code",
   "execution_count": 6,
   "metadata": {},
   "outputs": [],
   "source": [
    "exp_mapping = {'CA':0, 'DA':1, 'SS':2, 'LOFT':3}\n",
    "df_train['experiment'] = df_train['experiment'].map(exp_mapping)\n",
    "df_test['experiment'] = df_test['experiment'].map(exp_mapping)"
   ]
  },
  {
   "cell_type": "markdown",
   "metadata": {},
   "source": [
    "We will be creating a new column 'pilot' which will be a numerical representation of the combination of 'crew', 'experiment' and 'seat' columns"
   ]
  },
  {
   "cell_type": "code",
   "execution_count": 7,
   "metadata": {},
   "outputs": [],
   "source": [
    "df_train['pilot'] = df_train['crew'] * 100 + df_train['experiment'] * 10 + df_train['seat']\n",
    "train_pilots = [pilot for pilot in df_train['pilot'].unique()]\n",
    "df_train = df_train.compute()\n",
    "\n",
    "df_test['pilot'] = df_test['crew'] * 100 + df_test['experiment'] * 10 + df_test['seat']\n",
    "test_pilots = [pilot for pilot in df_test['pilot'].unique()]\n",
    "df_test = df_test.compute()"
   ]
  },
  {
   "cell_type": "markdown",
   "metadata": {},
   "source": [
    "# Featurization"
   ]
  },
  {
   "cell_type": "markdown",
   "metadata": {},
   "source": [
    "## Declaration of global variables"
   ]
  },
  {
   "cell_type": "code",
   "execution_count": 8,
   "metadata": {},
   "outputs": [],
   "source": [
    "FS = 256 # Sampling frequency\n",
    "EEG_SIGNAL_NAMES = ['eeg_fp1', 'eeg_f7', 'eeg_f8', 'eeg_t4', 'eeg_t6', 'eeg_t5', 'eeg_t3', 'eeg_fp2', \n",
    "                    'eeg_o1', 'eeg_p3', 'eeg_pz', 'eeg_f3', 'eeg_fz', 'eeg_f4', 'eeg_c4', 'eeg_p4', \n",
    "                    'eeg_poz', 'eeg_c3', 'eeg_cz', 'eeg_o2']"
   ]
  },
  {
   "cell_type": "markdown",
   "metadata": {},
   "source": [
    "## Featurization of ECG and R signals"
   ]
  },
  {
   "cell_type": "code",
   "execution_count": 9,
   "metadata": {},
   "outputs": [],
   "source": [
    "def get_ecg_r_features(pilot, train=True):\n",
    "    # Function to generate heart rate and respiration rate feature values\n",
    "    if train:\n",
    "        pilot_data = df_train.loc[df_train['pilot'] == pilot]\n",
    "    else:\n",
    "        pilot_data = df_test.loc[df_test['pilot'] == pilot]\n",
    "    pilot_data = pilot_data.iloc[pilot_data['time'].argsort()]\n",
    "    pilot_data.reset_index(drop=True, inplace=True)\n",
    "    N = len(pilot_data)\n",
    "\n",
    "    new_pilot_data = pd.DataFrame()\n",
    "    if train:\n",
    "        new_pilot_data['id'] = [str(pilot) + \"_\" + str(i) for i in pilot_data.index.values]\n",
    "    else:\n",
    "        new_pilot_data['id'] = pilot_data['id']\n",
    "    new_pilot_data['crew'] = pilot_data['crew']\n",
    "    new_pilot_data['seat'] = pilot_data['seat']\n",
    "    new_pilot_data['time'] = pilot_data['time']\n",
    "    new_pilot_data['ecg'] = pilot_data['ecg']\n",
    "    new_pilot_data['r'] = pilot_data['r']\n",
    "    if all(v==0 for v in pilot_data['ecg'].values):\n",
    "        new_pilot_data['heart_rate'] = [np.nan] * N\n",
    "        new_pilot_data['heart_rate_diff'] = [np.nan] * N\n",
    "        new_pilot_data['resp_rate'] = [np.nan] * N\n",
    "        new_pilot_data['resp_rate_diff'] = [np.nan] * N\n",
    "    else:\n",
    "        ts,filtered,rpeaks,templates_ts,templates,heart_rate_ts,heart_rate = ecg.ecg(signal=pilot_data['ecg'].values, sampling_rate=256, show=False)\n",
    "        f = interpolate.interp1d(heart_rate_ts, heart_rate, kind='cubic', fill_value='extrapolate')\n",
    "        new_pilot_data['heart_rate'] = f(pilot_data['time'].values)\n",
    "        new_pilot_data['heart_rate_diff'] = new_pilot_data['heart_rate'].diff().fillna(0)\n",
    "        \n",
    "        #https://biosppy.readthedocs.io/en/stable/biosppy.signals.html#biosppy-signals-resp\n",
    "        ts, filtered, zeros, resp_rate_ts, resp_rate_samples = resp.resp(signal=pilot_data['r'].values, sampling_rate=FS, show=False)\n",
    "        #The respiration rate will be given as samples at different points from the above line. We can extrapolate these samples to fit the whole data\n",
    "        f = interpolate.interp1d(resp_rate_ts, resp_rate_samples, kind='cubic', fill_value='extrapolate')\n",
    "        new_pilot_data['resp_rate'] = f(pilot_data['time'].values)\n",
    "        new_pilot_data['resp_rate_diff'] = new_pilot_data['resp_rate'].diff().fillna(0)\n",
    "    return new_pilot_data"
   ]
  },
  {
   "cell_type": "markdown",
   "metadata": {},
   "source": [
    "## Featurization of GSR signal"
   ]
  },
  {
   "cell_type": "code",
   "execution_count": 10,
   "metadata": {},
   "outputs": [],
   "source": [
    "def get_gsr_features(pilot, train=True):\n",
    "    # Function to generate GSR features\n",
    "    if train:\n",
    "        pilot_data = df_train.loc[df_train['pilot'] == pilot]\n",
    "    else:\n",
    "        pilot_data = df_test.loc[df_test['pilot'] == pilot]\n",
    "    pilot_data = pilot_data.iloc[pilot_data['time'].argsort()]\n",
    "    pilot_data.reset_index(drop=True, inplace=True)\n",
    "    N = len(pilot_data)\n",
    "    \n",
    "    new_pilot_data = pd.DataFrame()\n",
    "    if train:\n",
    "        new_pilot_data['id'] = [str(pilot) + \"_\" + str(i) for i in pilot_data.index.values]\n",
    "    else:\n",
    "        new_pilot_data['id'] = pilot_data['id']\n",
    "    \n",
    "    new_pilot_data['gsr'] = pilot_data['gsr']\n",
    "    if all(v==0 for v in pilot_data['gsr'].values):\n",
    "        new_pilot_data['gsr_diff'] = [0] * N\n",
    "        new_pilot_data['gsr_diff_2'] = [0] * N\n",
    "        new_pilot_data['gsr_last_onset'] = [N/FS] * N\n",
    "        new_pilot_data['gsr_last_peak'] = [N/FS] * N\n",
    "        new_pilot_data['gsr_amplitude'] = [0] * N\n",
    "    else:\n",
    "        new_pilot_data['gsr_diff'] = new_pilot_data['gsr'].diff().fillna(0)\n",
    "        new_pilot_data['gsr_diff_2'] = new_pilot_data['gsr_diff'].diff().fillna(0)\n",
    "        ts,filtered,onsets,peaks,amplitudes = eda.eda(signal=pilot_data['gsr'].values, sampling_rate=256, show=False)\n",
    "        last_onset = [N] * N\n",
    "        if len(onsets) > 0:\n",
    "            for i in range(1,len(onsets)):\n",
    "                last_onset[onsets[i-1]:onsets[i]] = list(range(0,(onsets[i]-onsets[i-1])))\n",
    "            last_onset[onsets[-1]:] = list(range(0,(N-onsets[-1])))\n",
    "        last_onset = [i/FS for i in last_onset]\n",
    "        new_pilot_data['gsr_last_onset'] = last_onset\n",
    "        \n",
    "        last_peak = [N] * N\n",
    "        if len(peaks) > 0:\n",
    "            for i in range(1,len(peaks)):\n",
    "                last_peak[peaks[i-1]:peaks[i]] = list(range(0,(peaks[i]-peaks[i-1])))\n",
    "            last_peak[peaks[-1]:] = list(range(0,(N-peaks[-1])))\n",
    "        last_peak = [i/FS for i in last_peak]\n",
    "        new_pilot_data['gsr_last_peak'] = last_peak\n",
    "        \n",
    "        if len(onsets) < 4:\n",
    "            new_pilot_data['gsr_amplitude'] = [0] * N\n",
    "        else:\n",
    "            f_amp = interpolate.interp1d(onsets, amplitudes, kind='cubic', fill_value='extrapolate')\n",
    "            new_pilot_data['gsr_amplitude'] = f_amp(pilot_data['time'].values)\n",
    "    return new_pilot_data"
   ]
  },
  {
   "cell_type": "markdown",
   "metadata": {},
   "source": [
    "## Featurization of EEG signals"
   ]
  },
  {
   "cell_type": "code",
   "execution_count": 11,
   "metadata": {},
   "outputs": [],
   "source": [
    "def get_eeg_features(pilot, train=True):\n",
    "    # Function to generate power and phase locking factor features from EEG signals\n",
    "    if train:\n",
    "        pilot_data = df_train.loc[df_train['pilot'] == pilot]\n",
    "    else:\n",
    "        pilot_data = df_test.loc[df_test['pilot'] == pilot]\n",
    "    pilot_data = pilot_data.iloc[pilot_data['time'].argsort()]\n",
    "    pilot_data.reset_index(drop=True, inplace=True)\n",
    "    \n",
    "    new_pilot_data = pd.DataFrame()\n",
    "    if train:\n",
    "        new_pilot_data['id'] = [str(pilot) + \"_\" + str(i) for i in pilot_data.index.values]\n",
    "    else:\n",
    "        new_pilot_data['id'] = pilot_data['id']\n",
    "    \n",
    "    eeg_signals = pilot_data[EEG_SIGNAL_NAMES].values\n",
    "    ts,theta,alpha_low,alpha_high,beta,gamma = eeg.get_power_features(signal=eeg_signals, sampling_rate=FS, size=40, overlap=0.99375)\n",
    "    for i in range(len(EEG_SIGNAL_NAMES)):\n",
    "        f_theta = interpolate.interp1d(ts, theta[:,i], kind='cubic', fill_value='extrapolate')\n",
    "        new_pilot_data[EEG_SIGNAL_NAMES[i]+\"_theta\"] = f_theta(pilot_data['time'].values)\n",
    "        f_alpha_low = interpolate.interp1d(ts, alpha_low[:,i], kind='cubic', fill_value='extrapolate')\n",
    "        new_pilot_data[EEG_SIGNAL_NAMES[i]+\"_alpha_low\"] = f_alpha_low(pilot_data['time'].values)\n",
    "        f_alpha_high = interpolate.interp1d(ts, alpha_high[:,i], kind='cubic', fill_value='extrapolate')\n",
    "        new_pilot_data[EEG_SIGNAL_NAMES[i]+\"_alpha_high\"] = f_alpha_high(pilot_data['time'].values)\n",
    "        f_beta = interpolate.interp1d(ts, beta[:,i], kind='cubic', fill_value='extrapolate')\n",
    "        new_pilot_data[EEG_SIGNAL_NAMES[i]+\"_beta\"] = f_beta(pilot_data['time'].values)\n",
    "        f_gamma = interpolate.interp1d(ts, gamma[:,i], kind='cubic', fill_value='extrapolate')\n",
    "        new_pilot_data[EEG_SIGNAL_NAMES[i]+\"_gamma\"] = f_gamma(pilot_data['time'].values)\n",
    "\n",
    "    if train:\n",
    "        new_pilot_data['event'] = pilot_data['event']\n",
    "    return new_pilot_data"
   ]
  },
  {
   "cell_type": "markdown",
   "metadata": {},
   "source": [
    "## Combining all new features"
   ]
  },
  {
   "cell_type": "code",
   "execution_count": 12,
   "metadata": {},
   "outputs": [],
   "source": [
    "def get_new_features(pilot, train=True):\n",
    "    ecg_r_features = get_ecg_r_features(pilot, train)\n",
    "    gsr_features = get_gsr_features(pilot, train)\n",
    "    eeg_features = get_eeg_features(pilot, train)\n",
    "    \n",
    "    pilot_new_features = pd.merge(ecg_r_features, gsr_features, on='id')\n",
    "    pilot_new_features = pd.merge(pilot_new_features, eeg_features, on='id')\n",
    "    pilot_new_features = reduce_mem_usage(pilot_new_features)\n",
    "    return pilot_new_features"
   ]
  },
  {
   "cell_type": "markdown",
   "metadata": {},
   "source": [
    "## Train data featurization"
   ]
  },
  {
   "cell_type": "markdown",
   "metadata": {},
   "source": [
    "The new features for train and test data are stored in parquet format since it takes lesser disk space than csv and also save and load time is smaller"
   ]
  },
  {
   "cell_type": "code",
   "execution_count": 13,
   "metadata": {},
   "outputs": [],
   "source": [
    "with Pool(processes=8) as pool:\n",
    "    X_train = pool.map(get_new_features, train_pilots)\n",
    "X_train=pd.concat(X_train,ignore_index=True)\n",
    "X_train = reduce_mem_usage(X_train)\n",
    "\n",
    "# The missing values for heart rate and resp rate features are imputed with the median values\n",
    "X_train['heart_rate'].fillna(X_train['heart_rate'].median(),inplace=True)\n",
    "X_train['heart_rate_diff'].fillna(X_train['heart_rate_diff'].median(),inplace=True)\n",
    "X_train['resp_rate'].fillna(X_train['resp_rate'].median(), inplace=True)\n",
    "X_train['resp_rate_diff'].fillna(X_train['resp_rate_diff'].median(), inplace=True)\n",
    "\n",
    "# One hot encoding of crew id\n",
    "crew_ohe = OneHotEncoder()\n",
    "crew_ohe.fit(X_train[['crew']])\n",
    "crew_ohe_features = [\"crew_\"+str(i) for i in crew_ohe.categories_[0]]\n",
    "X_train[crew_ohe_features] = crew_ohe.transform(X_train[['crew']]).toarray()\n",
    "for feature in crew_ohe_features:\n",
    "    X_train[feature] = X_train[feature].astype(np.int8)\n",
    "X_train.drop(['id','crew'], axis=1, inplace=True)\n",
    "X_train = reduce_mem_usage(X_train)\n",
    "X_train.to_parquet(\"train_new_features.gzip\", compression='gzip')\n",
    "pickle.dump(crew_ohe, open(\"crew_ohe.sav\", 'wb'))"
   ]
  },
  {
   "cell_type": "markdown",
   "metadata": {},
   "source": [
    "## Test data featurization"
   ]
  },
  {
   "cell_type": "code",
   "execution_count": 14,
   "metadata": {},
   "outputs": [],
   "source": [
    "def save_pilot_data(pilot):\n",
    "    pilot_new_features = get_new_features(pilot, train=False)\n",
    "    crew_ohe = pickle.load(open('crew_ohe.sav','rb'))\n",
    "    crew_ohe_features = [\"crew_\"+str(i) for i in crew_ohe.categories_[0]]\n",
    "    pilot_new_features[crew_ohe_features] = crew_ohe.transform(pilot_new_features[['crew']]).toarray()\n",
    "    for feature in crew_ohe_features:\n",
    "        pilot_new_features[feature] = pilot_new_features[feature].astype(np.int8)\n",
    "    pilot_new_features.drop(['crew'], axis=1, inplace=True)\n",
    "    pilot_new_features = reduce_mem_usage(pilot_new_features)\n",
    "    pilot_new_features.to_parquet(\"test_new_features/\"+str(pilot)+\".gzip\", compression='gzip')"
   ]
  },
  {
   "cell_type": "code",
   "execution_count": 15,
   "metadata": {},
   "outputs": [],
   "source": [
    "with Pool(processes=8) as pool:\n",
    "    pool.map(save_pilot_data, test_pilots)"
   ]
  },
  {
   "cell_type": "markdown",
   "metadata": {},
   "source": [
    "## Reading train data with new features"
   ]
  },
  {
   "cell_type": "code",
   "execution_count": 16,
   "metadata": {},
   "outputs": [
    {
     "data": {
      "text/html": [
       "<div>\n",
       "<style scoped>\n",
       "    .dataframe tbody tr th:only-of-type {\n",
       "        vertical-align: middle;\n",
       "    }\n",
       "\n",
       "    .dataframe tbody tr th {\n",
       "        vertical-align: top;\n",
       "    }\n",
       "\n",
       "    .dataframe thead th {\n",
       "        text-align: right;\n",
       "    }\n",
       "</style>\n",
       "<table border=\"1\" class=\"dataframe\">\n",
       "  <thead>\n",
       "    <tr style=\"text-align: right;\">\n",
       "      <th></th>\n",
       "      <th>seat</th>\n",
       "      <th>time</th>\n",
       "      <th>ecg</th>\n",
       "      <th>r</th>\n",
       "      <th>heart_rate</th>\n",
       "      <th>heart_rate_diff</th>\n",
       "      <th>resp_rate</th>\n",
       "      <th>resp_rate_diff</th>\n",
       "      <th>gsr</th>\n",
       "      <th>gsr_diff</th>\n",
       "      <th>...</th>\n",
       "      <th>event</th>\n",
       "      <th>crew_1</th>\n",
       "      <th>crew_2</th>\n",
       "      <th>crew_3</th>\n",
       "      <th>crew_4</th>\n",
       "      <th>crew_5</th>\n",
       "      <th>crew_6</th>\n",
       "      <th>crew_7</th>\n",
       "      <th>crew_8</th>\n",
       "      <th>crew_13</th>\n",
       "    </tr>\n",
       "  </thead>\n",
       "  <tbody>\n",
       "    <tr>\n",
       "      <th>0</th>\n",
       "      <td>1</td>\n",
       "      <td>0.011719</td>\n",
       "      <td>-4520.0</td>\n",
       "      <td>817.705994</td>\n",
       "      <td>-275.059326</td>\n",
       "      <td>0.000000</td>\n",
       "      <td>0.631937</td>\n",
       "      <td>0.000000</td>\n",
       "      <td>388.829987</td>\n",
       "      <td>0.0</td>\n",
       "      <td>...</td>\n",
       "      <td>0</td>\n",
       "      <td>1</td>\n",
       "      <td>0</td>\n",
       "      <td>0</td>\n",
       "      <td>0</td>\n",
       "      <td>0</td>\n",
       "      <td>0</td>\n",
       "      <td>0</td>\n",
       "      <td>0</td>\n",
       "      <td>0</td>\n",
       "    </tr>\n",
       "    <tr>\n",
       "      <th>1</th>\n",
       "      <td>1</td>\n",
       "      <td>0.015625</td>\n",
       "      <td>-4520.0</td>\n",
       "      <td>817.705994</td>\n",
       "      <td>-273.924194</td>\n",
       "      <td>1.135131</td>\n",
       "      <td>0.631433</td>\n",
       "      <td>-0.000504</td>\n",
       "      <td>388.829987</td>\n",
       "      <td>0.0</td>\n",
       "      <td>...</td>\n",
       "      <td>0</td>\n",
       "      <td>1</td>\n",
       "      <td>0</td>\n",
       "      <td>0</td>\n",
       "      <td>0</td>\n",
       "      <td>0</td>\n",
       "      <td>0</td>\n",
       "      <td>0</td>\n",
       "      <td>0</td>\n",
       "      <td>0</td>\n",
       "    </tr>\n",
       "    <tr>\n",
       "      <th>2</th>\n",
       "      <td>1</td>\n",
       "      <td>0.019531</td>\n",
       "      <td>-4520.0</td>\n",
       "      <td>817.705994</td>\n",
       "      <td>-272.791473</td>\n",
       "      <td>1.132734</td>\n",
       "      <td>0.630930</td>\n",
       "      <td>-0.000503</td>\n",
       "      <td>388.829987</td>\n",
       "      <td>0.0</td>\n",
       "      <td>...</td>\n",
       "      <td>0</td>\n",
       "      <td>1</td>\n",
       "      <td>0</td>\n",
       "      <td>0</td>\n",
       "      <td>0</td>\n",
       "      <td>0</td>\n",
       "      <td>0</td>\n",
       "      <td>0</td>\n",
       "      <td>0</td>\n",
       "      <td>0</td>\n",
       "    </tr>\n",
       "    <tr>\n",
       "      <th>3</th>\n",
       "      <td>1</td>\n",
       "      <td>0.023438</td>\n",
       "      <td>-4520.0</td>\n",
       "      <td>817.705994</td>\n",
       "      <td>-271.661133</td>\n",
       "      <td>1.130339</td>\n",
       "      <td>0.630426</td>\n",
       "      <td>-0.000503</td>\n",
       "      <td>388.829987</td>\n",
       "      <td>0.0</td>\n",
       "      <td>...</td>\n",
       "      <td>0</td>\n",
       "      <td>1</td>\n",
       "      <td>0</td>\n",
       "      <td>0</td>\n",
       "      <td>0</td>\n",
       "      <td>0</td>\n",
       "      <td>0</td>\n",
       "      <td>0</td>\n",
       "      <td>0</td>\n",
       "      <td>0</td>\n",
       "    </tr>\n",
       "    <tr>\n",
       "      <th>4</th>\n",
       "      <td>1</td>\n",
       "      <td>0.027344</td>\n",
       "      <td>-4520.0</td>\n",
       "      <td>817.705994</td>\n",
       "      <td>-270.533203</td>\n",
       "      <td>1.127947</td>\n",
       "      <td>0.629923</td>\n",
       "      <td>-0.000503</td>\n",
       "      <td>388.829987</td>\n",
       "      <td>0.0</td>\n",
       "      <td>...</td>\n",
       "      <td>0</td>\n",
       "      <td>1</td>\n",
       "      <td>0</td>\n",
       "      <td>0</td>\n",
       "      <td>0</td>\n",
       "      <td>0</td>\n",
       "      <td>0</td>\n",
       "      <td>0</td>\n",
       "      <td>0</td>\n",
       "      <td>0</td>\n",
       "    </tr>\n",
       "  </tbody>\n",
       "</table>\n",
       "<p>5 rows × 124 columns</p>\n",
       "</div>"
      ],
      "text/plain": [
       "   seat      time     ecg           r  heart_rate  heart_rate_diff  resp_rate  \\\n",
       "0     1  0.011719 -4520.0  817.705994 -275.059326         0.000000   0.631937   \n",
       "1     1  0.015625 -4520.0  817.705994 -273.924194         1.135131   0.631433   \n",
       "2     1  0.019531 -4520.0  817.705994 -272.791473         1.132734   0.630930   \n",
       "3     1  0.023438 -4520.0  817.705994 -271.661133         1.130339   0.630426   \n",
       "4     1  0.027344 -4520.0  817.705994 -270.533203         1.127947   0.629923   \n",
       "\n",
       "   resp_rate_diff         gsr  gsr_diff  ...  event  crew_1  crew_2  crew_3  \\\n",
       "0        0.000000  388.829987       0.0  ...      0       1       0       0   \n",
       "1       -0.000504  388.829987       0.0  ...      0       1       0       0   \n",
       "2       -0.000503  388.829987       0.0  ...      0       1       0       0   \n",
       "3       -0.000503  388.829987       0.0  ...      0       1       0       0   \n",
       "4       -0.000503  388.829987       0.0  ...      0       1       0       0   \n",
       "\n",
       "   crew_4  crew_5  crew_6  crew_7  crew_8  crew_13  \n",
       "0       0       0       0       0       0        0  \n",
       "1       0       0       0       0       0        0  \n",
       "2       0       0       0       0       0        0  \n",
       "3       0       0       0       0       0        0  \n",
       "4       0       0       0       0       0        0  \n",
       "\n",
       "[5 rows x 124 columns]"
      ]
     },
     "execution_count": 16,
     "metadata": {},
     "output_type": "execute_result"
    }
   ],
   "source": [
    "X_train = pd.read_parquet(\"train_new_features.gzip\")\n",
    "X_train.head()"
   ]
  },
  {
   "cell_type": "code",
   "execution_count": 17,
   "metadata": {},
   "outputs": [],
   "source": [
    "X_train = reduce_mem_usage(X_train)\n",
    "y_train = X_train['event']\n",
    "X_train.drop(['event'], axis=1, inplace=True)\n",
    "features = X_train.columns\n",
    "\n",
    "#Splitting data into train and cv\n",
    "X_train,X_cv,y_train,y_cv = train_test_split(X_train,y_train,stratify=y_train, test_size=0.25)\n",
    "crew_ohe = pickle.load(open('crew_ohe.sav','rb'))\n",
    "crew_ohe_features = [\"crew_\"+str(i) for i in crew_ohe.categories_[0]]\n",
    "numerical_features = [feature for feature in features if feature not in crew_ohe_features+['seat']]\n",
    "scaler = StandardScaler()\n",
    "X_train[numerical_features] = scaler.fit_transform(X_train[numerical_features])\n",
    "X_cv[numerical_features] = scaler.transform(X_cv[numerical_features])\n",
    "pickle.dump(scaler, open('scaler.sav','wb'))\n",
    "X_train = dd.from_pandas(X_train, chunksize=10000)\n",
    "y_train = dd.from_pandas(y_train, chunksize=10000)\n",
    "X_cv = dd.from_pandas(X_cv, chunksize=10000)\n",
    "y_cv = dd.from_pandas(y_cv, chunksize=10000)\n",
    "\n",
    "# Computing class weight\n",
    "cw = compute_class_weight(class_weight='balanced', classes=[0,1,2,3], y=y_train.compute().values)\n",
    "cw = {k:v for k,v in enumerate(cw)}"
   ]
  },
  {
   "cell_type": "markdown",
   "metadata": {},
   "source": [
    "# Model building"
   ]
  },
  {
   "cell_type": "code",
   "execution_count": 18,
   "metadata": {},
   "outputs": [],
   "source": [
    "def plot_confusion_matrix(test_y, predict_y):\n",
    "    # Function to plot confusion matrix along with precision and recall matrix\n",
    "    C = confusion_matrix(test_y, predict_y)\n",
    "    print(\"Percentage of misclassified points \",(len(test_y)-np.trace(C))/len(test_y)*100)\n",
    "    A =(((C.T)/(C.sum(axis=1))).T)\n",
    "    B =(C/C.sum(axis=0))\n",
    "    labels = [0,1,2,3]\n",
    "    cmap=sns.light_palette(\"green\")\n",
    "    # representing A in heatmap format\n",
    "    print(\"-\"*50, \"Confusion matrix\", \"-\"*50)\n",
    "    plt.figure(figsize=(10,5))\n",
    "    sns.heatmap(C, annot=True, cmap=cmap, xticklabels=labels, yticklabels=labels)\n",
    "    plt.xlabel('Predicted Class')\n",
    "    plt.ylabel('Original Class')\n",
    "    plt.show()\n",
    "\n",
    "    print(\"-\"*50, \"Precision matrix\", \"-\"*50)\n",
    "    plt.figure(figsize=(10,5))\n",
    "    sns.heatmap(B, annot=True, cmap=cmap, xticklabels=labels, yticklabels=labels)\n",
    "    plt.xlabel('Predicted Class')\n",
    "    plt.ylabel('Original Class')\n",
    "    plt.show()\n",
    "    print(\"Sum of columns in precision matrix\",B.sum(axis=0))\n",
    "    \n",
    "    # representing B in heatmap format\n",
    "    print(\"-\"*50, \"Recall matrix\"    , \"-\"*50)\n",
    "    plt.figure(figsize=(10,5))\n",
    "    sns.heatmap(A, annot=True, cmap=cmap, xticklabels=labels, yticklabels=labels)\n",
    "    plt.xlabel('Predicted Class')\n",
    "    plt.ylabel('Original Class')\n",
    "    plt.show()\n",
    "    print(\"Sum of rows in recall matrix\",A.sum(axis=1))"
   ]
  },
  {
   "cell_type": "code",
   "execution_count": 19,
   "metadata": {},
   "outputs": [],
   "source": [
    "def get_test_output(pilot, model_file, scaler_file=None, selector_file=None):\n",
    "    # Function to generate output for each pilot in given test data\n",
    "    X_test = pd.read_parquet(\"test_new_features/\"+str(pilot)+\".gzip\")\n",
    "    df_pred = pd.DataFrame()\n",
    "    df_pred['id'] = X_test['id']\n",
    "    X_test = X_test.drop(['id'], axis=1)\n",
    "    if scaler_file:\n",
    "        features = X_test.columns\n",
    "        crew_ohe = pickle.load(open('crew_ohe.sav','rb'))\n",
    "        crew_ohe_features = [\"crew_\"+str(i) for i in crew_ohe.categories_[0]]\n",
    "        numerical_features = [feature for feature in features if feature not in crew_ohe_features+['seat']]\n",
    "        scaler = pickle.load(open('scaler.sav', 'rb'))\n",
    "        X_test[numerical_features] = scaler.transform(X_test[numerical_features])\n",
    "    X_test = reduce_mem_usage(X_test)\n",
    "    X_test = dd.from_pandas(X_test, chunksize=10000)\n",
    "    if selector_file:\n",
    "        selector = pickle.load(open(selector_file, 'rb'))\n",
    "        X_test = selector.transform(X_test)\n",
    "        X_test = dd.from_array(X_test, chunksize=10000)\n",
    "    model = pickle.load(open(model_file, 'rb'))\n",
    "    y_pred = model.predict_proba(X_test)\n",
    "    df_pred['A'] = y_pred[:,0]\n",
    "    df_pred['B'] = y_pred[:,3]\n",
    "    df_pred['C'] = y_pred[:,1]\n",
    "    df_pred['D'] = y_pred[:,2]\n",
    "    return df_pred"
   ]
  },
  {
   "cell_type": "markdown",
   "metadata": {},
   "source": [
    "## Logistic Regression"
   ]
  },
  {
   "cell_type": "code",
   "execution_count": 20,
   "metadata": {},
   "outputs": [
    {
     "name": "stdout",
     "output_type": "stream",
     "text": [
      "Cross validation log_loss for c =  1e-12 is 0.8967387896824326\n",
      "Cross validation log_loss for c =  1e-11 is 0.8967380449767502\n",
      "Cross validation log_loss for c =  1e-10 is 0.8967305684172879\n",
      "Cross validation log_loss for c =  1e-09 is 0.8966490353353217\n",
      "Cross validation log_loss for c =  1e-08 is 0.8959240137194917\n",
      "Cross validation log_loss for c =  1e-07 is 0.8981049363251484\n"
     ]
    }
   ],
   "source": [
    "c_values = [10 ** x for x in range(-12, -6)]\n",
    "cv_log_error_array=[]\n",
    "for i in c_values:\n",
    "    logisticR=LogisticRegression(penalty='l2',C=i,class_weight=cw, n_jobs=-1)\n",
    "    logisticR.fit(X_train,y_train)\n",
    "    sig_clf = CalibratedClassifierCV(logisticR, method=\"sigmoid\", cv='prefit')\n",
    "    sig_clf.fit(X_train, y_train)\n",
    "    predict_y = sig_clf.predict_proba(X_cv)\n",
    "    loss = log_loss(y_cv, predict_y, labels=[0,1,2,3], eps=1e-15)\n",
    "    cv_log_error_array.append(loss)\n",
    "    print ('Cross validation log_loss for c = ',i,'is',loss)\n",
    "    if loss == min(cv_log_error_array):\n",
    "        pickle.dump(sig_clf, open(\"lr_model.sav\", 'wb'))"
   ]
  },
  {
   "cell_type": "code",
   "execution_count": 21,
   "metadata": {},
   "outputs": [
    {
     "name": "stdout",
     "output_type": "stream",
     "text": [
      "Percentage of misclassified points  41.36126213783718\n",
      "-------------------------------------------------- Confusion matrix --------------------------------------------------\n"
     ]
    },
    {
     "data": {
      "image/png": "[encoded data removed]",
      "text/plain": [
       "<Figure size 720x360 with 2 Axes>"
      ]
     },
     "metadata": {
      "needs_background": "light"
     },
     "output_type": "display_data"
    },
    {
     "name": "stdout",
     "output_type": "stream",
     "text": [
      "-------------------------------------------------- Precision matrix --------------------------------------------------\n"
     ]
    },
    {
     "data": {
      "image/png": "[encoded data removed]",
      "text/plain": [
       "<Figure size 720x360 with 2 Axes>"
      ]
     },
     "metadata": {
      "needs_background": "light"
     },
     "output_type": "display_data"
    },
    {
     "name": "stdout",
     "output_type": "stream",
     "text": [
      "Sum of columns in precision matrix [ 1.  1.  1. nan]\n",
      "-------------------------------------------------- Recall matrix --------------------------------------------------\n"
     ]
    },
    {
     "data": {
      "image/png": "[encoded data removed]",
      "text/plain": [
       "<Figure size 720x360 with 2 Axes>"
      ]
     },
     "metadata": {
      "needs_background": "light"
     },
     "output_type": "display_data"
    },
    {
     "name": "stdout",
     "output_type": "stream",
     "text": [
      "Sum of rows in recall matrix [1. 1. 1. 1.]\n"
     ]
    }
   ],
   "source": [
    "clf = pickle.load(open('lr_model.sav', 'rb'))\n",
    "plot_confusion_matrix(y_cv.compute(), clf.predict(X_cv))"
   ]
  },
  {
   "cell_type": "code",
   "execution_count": 22,
   "metadata": {},
   "outputs": [
    {
     "name": "stdout",
     "output_type": "stream",
     "text": [
      "100%|██████████████████████████████████████| 1.49G/1.49G [00:29<00:00, 54.4MB/s]\n",
      "Successfully submitted to Reducing Commercial Aviation Fatalities"
     ]
    }
   ],
   "source": [
    "lr_test_pilots_data = []\n",
    "for pilot in test_pilots:\n",
    "    lr_test_pilots_data.append((pilot,'lr_model.sav','scaler.sav'))\n",
    "\n",
    "with Pool(processes=6) as pool:\n",
    "    test_output = pool.starmap(get_test_output, lr_test_pilots_data)\n",
    "        \n",
    "test_output = pd.concat(test_output, ignore_index=True)\n",
    "test_output.to_csv(\"lr_submission.csv\", index=False)\n",
    "!kaggle competitions submit -c reducing-commercial-aviation-fatalities -f lr_submission.csv -m \"This output was generated by calibrated Logistic Regression model after featurization\""
   ]
  },
  {
   "cell_type": "markdown",
   "metadata": {},
   "source": [
    "<img src='https://i.imgur.com/qmbHAiA.png'>"
   ]
  },
  {
   "cell_type": "markdown",
   "metadata": {},
   "source": [
    "## Naive Bayes"
   ]
  },
  {
   "cell_type": "code",
   "execution_count": 23,
   "metadata": {},
   "outputs": [
    {
     "name": "stdout",
     "output_type": "stream",
     "text": [
      "Cross validation log_loss for var_smoothing =  1e-24 is 0.9175925893971798\n",
      "Cross validation log_loss for var_smoothing =  1e-23 is 0.9175925893971798\n",
      "Cross validation log_loss for var_smoothing =  1e-22 is 0.9175925893971798\n",
      "Cross validation log_loss for var_smoothing =  1e-21 is 0.9175925893994646\n",
      "Cross validation log_loss for var_smoothing =  1e-20 is 0.9175925893992731\n",
      "Cross validation log_loss for var_smoothing =  1e-19 is 0.9175925893980632\n",
      "Cross validation log_loss for var_smoothing =  1e-18 is 0.9175925893992759\n",
      "Cross validation log_loss for var_smoothing =  1e-17 is 0.9175925893994049\n"
     ]
    }
   ],
   "source": [
    "var_smoothing_values = [10 ** x for x in range(-24, -16)]\n",
    "cv_log_error_array=[]\n",
    "for i in var_smoothing_values:\n",
    "    clf = GaussianNB(var_smoothing=i)\n",
    "    clf.fit(X_train,y_train)\n",
    "    sig_clf = CalibratedClassifierCV(clf, method=\"sigmoid\", cv='prefit')\n",
    "    sig_clf.fit(X_train, y_train)\n",
    "    predict_y = sig_clf.predict_proba(X_cv)\n",
    "    loss = log_loss(y_cv, predict_y, labels=[0,1,2,3], eps=1e-15)\n",
    "    cv_log_error_array.append(loss)\n",
    "    print ('Cross validation log_loss for var_smoothing = ',i,'is',loss)\n",
    "    if loss == min(cv_log_error_array):\n",
    "        pickle.dump(sig_clf, open(\"nb_model.sav\", 'wb'))"
   ]
  },
  {
   "cell_type": "code",
   "execution_count": 24,
   "metadata": {},
   "outputs": [
    {
     "name": "stdout",
     "output_type": "stream",
     "text": [
      "Percentage of misclassified points  41.47187506163424\n",
      "-------------------------------------------------- Confusion matrix --------------------------------------------------\n"
     ]
    },
    {
     "data": {
      "image/png": "[encoded data removed]",
      "text/plain": [
       "<Figure size 720x360 with 2 Axes>"
      ]
     },
     "metadata": {
      "needs_background": "light"
     },
     "output_type": "display_data"
    },
    {
     "name": "stdout",
     "output_type": "stream",
     "text": [
      "-------------------------------------------------- Precision matrix --------------------------------------------------\n"
     ]
    },
    {
     "data": {
      "image/png": "[encoded data removed]",
      "text/plain": [
       "<Figure size 720x360 with 2 Axes>"
      ]
     },
     "metadata": {
      "needs_background": "light"
     },
     "output_type": "display_data"
    },
    {
     "name": "stdout",
     "output_type": "stream",
     "text": [
      "Sum of columns in precision matrix [ 1. nan nan nan]\n",
      "-------------------------------------------------- Recall matrix --------------------------------------------------\n"
     ]
    },
    {
     "data": {
      "image/png": "[encoded data removed]",
      "text/plain": [
       "<Figure size 720x360 with 2 Axes>"
      ]
     },
     "metadata": {
      "needs_background": "light"
     },
     "output_type": "display_data"
    },
    {
     "name": "stdout",
     "output_type": "stream",
     "text": [
      "Sum of rows in recall matrix [1. 1. 1. 1.]\n"
     ]
    }
   ],
   "source": [
    "clf = pickle.load(open('nb_model.sav', 'wb'))\n",
    "plot_confusion_matrix(y_cv.compute(), clf.predict(X_cv))"
   ]
  },
  {
   "cell_type": "code",
   "execution_count": 25,
   "metadata": {},
   "outputs": [
    {
     "name": "stdout",
     "output_type": "stream",
     "text": [
      "100%|██████████████████████████████████████| 1.48G/1.48G [00:28<00:00, 55.4MB/s]\n",
      "Successfully submitted to Reducing Commercial Aviation Fatalities"
     ]
    }
   ],
   "source": [
    "nb_test_pilots_data = []\n",
    "for pilot in test_pilots:\n",
    "    nb_test_pilots_data.append((pilot,'nb_model.sav','scaler.sav'))\n",
    "\n",
    "with Pool(processes=6) as pool:\n",
    "    test_output = pool.starmap(get_test_output, nb_test_pilots_data)\n",
    "        \n",
    "test_output = pd.concat(test_output, ignore_index=True)\n",
    "test_output.to_csv(\"nb_submission.csv\", index=False)\n",
    "!kaggle competitions submit -c reducing-commercial-aviation-fatalities -f nb_submission.csv -m \"This output was generated by calibrated Naive Bayes model after featurization\""
   ]
  },
  {
   "cell_type": "markdown",
   "metadata": {},
   "source": [
    "<img src='https://i.imgur.com/4Lb8sEr.png'>"
   ]
  },
  {
   "cell_type": "markdown",
   "metadata": {},
   "source": [
    "## Decision Tree Classifier"
   ]
  },
  {
   "cell_type": "code",
   "execution_count": 26,
   "metadata": {},
   "outputs": [
    {
     "name": "stdout",
     "output_type": "stream",
     "text": [
      "Cross validation log_loss for max_depth =  5 is 0.6518807455529501\n",
      "Cross validation log_loss for max_depth =  10 is 0.24745791126333921\n",
      "Cross validation log_loss for max_depth =  20 is 0.07081813684528972\n",
      "Cross validation log_loss for max_depth =  50 is 0.0049875857076011765\n",
      "Cross validation log_loss for max_depth =  75 is 0.0018004324837600767\n",
      "Cross validation log_loss for max_depth =  100 is 0.0018004324837600767\n"
     ]
    }
   ],
   "source": [
    "max_depths = [5,10,20,50,75,100]\n",
    "cv_log_error_array=[]\n",
    "for i in max_depths:\n",
    "    clf = DecisionTreeClassifier(max_depth=i, random_state=0, class_weight=cw)\n",
    "    clf.fit(X_train,y_train)\n",
    "    sig_clf = CalibratedClassifierCV(clf, method=\"sigmoid\", cv='prefit')\n",
    "    sig_clf.fit(X_train, y_train)\n",
    "    predict_y = sig_clf.predict_proba(X_cv)\n",
    "    loss = log_loss(y_cv, predict_y, labels=[0,1,2,3], eps=1e-15)\n",
    "    cv_log_error_array.append(loss)\n",
    "    print ('Cross validation log_loss for max_depth = ',i,'is',loss)\n",
    "    if loss == min(cv_log_error_array):\n",
    "        pickle.dump(sig_clf, open(\"dt_model.sav\", 'wb'))"
   ]
  },
  {
   "cell_type": "code",
   "execution_count": 27,
   "metadata": {},
   "outputs": [
    {
     "name": "stdout",
     "output_type": "stream",
     "text": [
      "Percentage of misclassified points  0.01232684886297146\n",
      "-------------------------------------------------- Confusion matrix --------------------------------------------------\n"
     ]
    },
    {
     "data": {
      "image/png": "[encoded data removed]",
      "text/plain": [
       "<Figure size 720x360 with 2 Axes>"
      ]
     },
     "metadata": {
      "needs_background": "light"
     },
     "output_type": "display_data"
    },
    {
     "name": "stdout",
     "output_type": "stream",
     "text": [
      "-------------------------------------------------- Precision matrix --------------------------------------------------\n"
     ]
    },
    {
     "data": {
      "image/png": "[encoded data removed]",
      "text/plain": [
       "<Figure size 720x360 with 2 Axes>"
      ]
     },
     "metadata": {
      "needs_background": "light"
     },
     "output_type": "display_data"
    },
    {
     "name": "stdout",
     "output_type": "stream",
     "text": [
      "Sum of columns in precision matrix [1. 1. 1. 1.]\n",
      "-------------------------------------------------- Recall matrix --------------------------------------------------\n"
     ]
    },
    {
     "data": {
      "image/png": "[encoded data removed]",
      "text/plain": [
       "<Figure size 720x360 with 2 Axes>"
      ]
     },
     "metadata": {
      "needs_background": "light"
     },
     "output_type": "display_data"
    },
    {
     "name": "stdout",
     "output_type": "stream",
     "text": [
      "Sum of rows in recall matrix [1. 1. 1. 1.]\n"
     ]
    }
   ],
   "source": [
    "clf = pickle.load(open('dt_model.sav', 'rb'))\n",
    "plot_confusion_matrix(y_cv.compute(), clf.predict(X_cv))"
   ]
  },
  {
   "cell_type": "code",
   "execution_count": 28,
   "metadata": {},
   "outputs": [
    {
     "name": "stdout",
     "output_type": "stream",
     "text": [
      "100%|██████████████████████████████████████| 1.56G/1.56G [00:31<00:00, 53.5MB/s]\n",
      "Successfully submitted to Reducing Commercial Aviation Fatalities"
     ]
    }
   ],
   "source": [
    "dt_test_pilots_data = []\n",
    "for pilot in test_pilots:\n",
    "    dt_test_pilots_data.append((pilot,'dt_model.sav','scaler.sav'))\n",
    "\n",
    "with Pool(processes=6) as pool:\n",
    "    test_output = pool.starmap(get_test_output, dt_test_pilots_data)\n",
    "        \n",
    "test_output = pd.concat(test_output, ignore_index=True)\n",
    "test_output.to_csv(\"dt_submission.csv\", index=False)\n",
    "!kaggle competitions submit -c reducing-commercial-aviation-fatalities -f dt_submission.csv -m \"This output was generated by calibrated Decision Tree Classifier after featurization\""
   ]
  },
  {
   "cell_type": "markdown",
   "metadata": {},
   "source": [
    "<img src='https://i.imgur.com/zJsdZK3.png'>"
   ]
  },
  {
   "cell_type": "markdown",
   "metadata": {},
   "source": [
    "## Random Forest Classifier"
   ]
  },
  {
   "cell_type": "code",
   "execution_count": 29,
   "metadata": {},
   "outputs": [
    {
     "name": "stdout",
     "output_type": "stream",
     "text": [
      "Cross validation log_loss for n_estimators =  100 is 0.0002083465827468222\n",
      "Cross validation log_loss for n_estimators =  500 is 0.00020567321914648502\n",
      "Cross validation log_loss for n_estimators =  1000 is 0.00020555310076899428\n",
      "Cross validation log_loss for n_estimators =  2000 is 0.00020444842854765635\n",
      "Cross validation log_loss for n_estimators =  3000 is 0.00020552246712064113\n"
     ]
    }
   ],
   "source": [
    "r_clf=RandomForestClassifier(warm_start=True, random_state=42, n_jobs=-1, class_weight=cw)\n",
    "estimators = [100,500,1000,2000,3000]\n",
    "cv_log_error_array=[]\n",
    "min_cv_log_loss = 1\n",
    "for i in estimators:\n",
    "    r_clf.set_params(**{'n_estimators':i})\n",
    "    r_clf.fit(X_train,y_train)\n",
    "    predict_y = r_clf.predict_proba(X_cv)\n",
    "    loss = log_loss(y_cv.compute(), predict_y, labels=r_clf.classes_)\n",
    "    cv_log_error_array.append(loss)\n",
    "    print('Cross validation log_loss for n_estimators =',i,'is',loss)\n",
    "    if loss < min_cv_log_loss:\n",
    "        min_cv_log_loss = loss\n",
    "        pickle.dump(r_clf, open(\"rf_model.sav\", 'wb'))"
   ]
  },
  {
   "cell_type": "code",
   "execution_count": 30,
   "metadata": {},
   "outputs": [
    {
     "name": "stdout",
     "output_type": "stream",
     "text": [
      "Percentage of misclassified points  0.00936840513585831\n",
      "-------------------------------------------------- Confusion matrix --------------------------------------------------\n"
     ]
    },
    {
     "data": {
      "image/png": "[encoded data removed]",
      "text/plain": [
       "<Figure size 720x360 with 2 Axes>"
      ]
     },
     "metadata": {
      "needs_background": "light"
     },
     "output_type": "display_data"
    },
    {
     "name": "stdout",
     "output_type": "stream",
     "text": [
      "-------------------------------------------------- Precision matrix --------------------------------------------------\n"
     ]
    },
    {
     "data": {
      "image/png": "[encoded data removed]",
      "text/plain": [
       "<Figure size 720x360 with 2 Axes>"
      ]
     },
     "metadata": {
      "needs_background": "light"
     },
     "output_type": "display_data"
    },
    {
     "name": "stdout",
     "output_type": "stream",
     "text": [
      "Sum of columns in precision matrix [1. 1. 1. 1.]\n",
      "-------------------------------------------------- Recall matrix --------------------------------------------------\n"
     ]
    },
    {
     "data": {
      "image/png": "[encoded data removed]",
      "text/plain": [
       "<Figure size 720x360 with 2 Axes>"
      ]
     },
     "metadata": {
      "needs_background": "light"
     },
     "output_type": "display_data"
    },
    {
     "name": "stdout",
     "output_type": "stream",
     "text": [
      "Sum of rows in recall matrix [1. 1. 1. 1.]\n"
     ]
    }
   ],
   "source": [
    "clf = pickle.load(open('rf_model.sav', 'rb'))\n",
    "plot_confusion_matrix(y_cv.compute(), clf.predict(X_cv))"
   ]
  },
  {
   "cell_type": "code",
   "execution_count": 31,
   "metadata": {},
   "outputs": [
    {
     "data": {
      "image/png": "[encoded data removed]",
      "text/plain": [
       "<Figure size 720x360 with 1 Axes>"
      ]
     },
     "metadata": {
      "needs_background": "light"
     },
     "output_type": "display_data"
    }
   ],
   "source": [
    "importances = clf.feature_importances_\n",
    "indices = (np.argsort(importances))[-25:]\n",
    "plt.figure(figsize=(10,5))\n",
    "plt.title('Feature Importances')\n",
    "plt.barh(range(len(indices)), importances[indices], color='r', align='center')\n",
    "plt.yticks(range(len(indices)), [features[i] for i in indices])\n",
    "plt.xlabel('Relative Importance')\n",
    "plt.show()"
   ]
  },
  {
   "cell_type": "code",
   "execution_count": 32,
   "metadata": {},
   "outputs": [
    {
     "name": "stdout",
     "output_type": "stream",
     "text": [
      "100%|████████████████████████████████████████| 585M/585M [00:06<00:00, 88.3MB/s]\n",
      "Successfully submitted to Reducing Commercial Aviation Fatalities"
     ]
    }
   ],
   "source": [
    "rf_test_pilots_data = []\n",
    "for pilot in test_pilots:\n",
    "    rf_test_pilots_data.append((pilot,\"rf_model.sav\", 'scaler.sav'))\n",
    "\n",
    "with Pool(processes=6) as pool:\n",
    "    test_output = pool.starmap(get_test_output, rf_test_pilots_data)\n",
    "        \n",
    "test_output = pd.concat(test_output, ignore_index=True)\n",
    "test_output.to_csv(\"rf_submission.csv\", index=False)\n",
    "!kaggle competitions submit -c reducing-commercial-aviation-fatalities -f rf_submission.csv -m \"This output was generated by Random Forest model after featurization\""
   ]
  },
  {
   "cell_type": "markdown",
   "metadata": {},
   "source": [
    "<img src='https://i.imgur.com/3DAilYG.png'>"
   ]
  },
  {
   "cell_type": "markdown",
   "metadata": {},
   "source": [
    "## KNN classifier"
   ]
  },
  {
   "cell_type": "markdown",
   "metadata": {},
   "source": [
    "For KNN we need to reduce the dimensionality of the model since the size of the dataset is too huge. We select top 20 features we got from Random Forest model"
   ]
  },
  {
   "cell_type": "code",
   "execution_count": 33,
   "metadata": {},
   "outputs": [],
   "source": [
    "rf_model = pickle.load(open('rf_model.sav','rb'))\n",
    "selector = SelectFromModel(estimator=rf_model, threshold=-np.inf, prefit=True, max_features=20)\n",
    "X_train_selected = selector.transform(X_train)\n",
    "X_cv_selected = selector.transform(X_cv)\n",
    "pickle.dump(selector, open('selector.sav', 'wb'))\n",
    "X_train_selected = dd.from_array(X_train_selected, chunksize=10000)\n",
    "X_cv_selected = dd.from_array(X_cv_selected, chunksize=10000)"
   ]
  },
  {
   "cell_type": "code",
   "execution_count": 34,
   "metadata": {},
   "outputs": [
    {
     "name": "stdout",
     "output_type": "stream",
     "text": [
      "Cross validation log_loss for n_neighbours =  1 is 0.0018120695239619274\n",
      "Cross validation log_loss for n_neighbours =  3 is 0.0015404901520025519\n",
      "Cross validation log_loss for n_neighbours =  5 is 0.0017313937819627436\n",
      "Cross validation log_loss for n_neighbours =  9 is 0.0022687051961786564\n"
     ]
    }
   ],
   "source": [
    "neighbors = [1,3,5,9]\n",
    "cv_log_error_array=[]\n",
    "for i in neighbors:\n",
    "    k_cfl=KNeighborsClassifier(n_neighbors=i, algorithm='ball_tree', n_jobs=-1)\n",
    "    k_cfl.fit(X_train_selected,y_train)\n",
    "    sig_clf = CalibratedClassifierCV(k_cfl, method=\"sigmoid\", cv='prefit')\n",
    "    sig_clf.fit(X_train_selected, y_train)\n",
    "    predict_y = sig_clf.predict_proba(X_cv_selected)\n",
    "    loss = log_loss(y_cv, predict_y, labels=[0,1,2,3], eps=1e-15)\n",
    "    cv_log_error_array.append(loss)\n",
    "    print ('Cross validation log_loss for n_neighbours = ',i,'is',loss)\n",
    "    if loss == min(cv_log_error_array):\n",
    "        pickle.dump(sig_clf, open(\"knn_model.sav\", 'wb'))"
   ]
  },
  {
   "cell_type": "code",
   "execution_count": 35,
   "metadata": {},
   "outputs": [
    {
     "name": "stdout",
     "output_type": "stream",
     "text": [
      "Percentage of misclassified points  0.02473587671836273\n",
      "-------------------------------------------------- Confusion matrix --------------------------------------------------\n"
     ]
    },
    {
     "data": {
      "image/png": "[encoded data removed]",
      "text/plain": [
       "<Figure size 720x360 with 2 Axes>"
      ]
     },
     "metadata": {
      "needs_background": "light"
     },
     "output_type": "display_data"
    },
    {
     "name": "stdout",
     "output_type": "stream",
     "text": [
      "-------------------------------------------------- Precision matrix --------------------------------------------------\n"
     ]
    },
    {
     "data": {
      "image/png": "[encoded data removed]",
      "text/plain": [
       "<Figure size 720x360 with 2 Axes>"
      ]
     },
     "metadata": {
      "needs_background": "light"
     },
     "output_type": "display_data"
    },
    {
     "name": "stdout",
     "output_type": "stream",
     "text": [
      "Sum of columns in precision matrix [1. 1. 1. 1.]\n",
      "-------------------------------------------------- Recall matrix --------------------------------------------------\n"
     ]
    },
    {
     "data": {
      "image/png": "[encoded data removed]",
      "text/plain": [
       "<Figure size 720x360 with 2 Axes>"
      ]
     },
     "metadata": {
      "needs_background": "light"
     },
     "output_type": "display_data"
    },
    {
     "name": "stdout",
     "output_type": "stream",
     "text": [
      "Sum of rows in recall matrix [1. 1. 1. 1.]\n"
     ]
    }
   ],
   "source": [
    "clf = pickle.load(open(\"knn_model.sav\", 'rb'))\n",
    "pred_y = clf.predict(X_cv_selected)\n",
    "plot_confusion_matrix(y_cv.compute(), pred_y)"
   ]
  },
  {
   "cell_type": "code",
   "execution_count": 36,
   "metadata": {},
   "outputs": [
    {
     "name": "stdout",
     "output_type": "stream",
     "text": [
      "100%|███████████████████████████████████████| 1.60G/1.60G [00:15<00:00, 109MB/s]\n",
      "Successfully submitted to Reducing Commercial Aviation Fatalities"
     ]
    }
   ],
   "source": [
    "test_output = []\n",
    "for pilot in tqdm(test_pilots):\n",
    "    test_output.append(get_test_output(pilot, 'knn_model.sav', 'scaler.sav', 'selector.sav'))\n",
    "\n",
    "test_output = pd.concat(test_output, ignore_index=True)\n",
    "test_output.to_csv(\"knn_submission.csv\", index=False)\n",
    "!kaggle competitions submit -c reducing-commercial-aviation-fatalities -f knn_submission.csv -m \"This output was generated by calibrated KNeighboursClassifier model after featurization and dimensionality reduction\""
   ]
  },
  {
   "cell_type": "markdown",
   "metadata": {},
   "source": [
    "<img src='https://i.imgur.com/gBbtuLw.png'>"
   ]
  },
  {
   "cell_type": "markdown",
   "metadata": {},
   "source": [
    "## XGBoost Classifier"
   ]
  },
  {
   "cell_type": "code",
   "execution_count": 37,
   "metadata": {},
   "outputs": [
    {
     "name": "stdout",
     "output_type": "stream",
     "text": [
      "{'subsample': 1, 'n_estimators': 2000, 'max_depth': 3, 'learning_rate': 0.05, 'colsample_bytree': 0.1}\n"
     ]
    }
   ],
   "source": [
    "x_cfl=XGBClassifier()\n",
    "\n",
    "params={\n",
    "    'learning_rate':[0.01,0.05,0.1,0.15,0.2],\n",
    "     'n_estimators':[100,200,500,1000,2000],\n",
    "     'max_depth':[3,5,10],\n",
    "    'colsample_bytree':[0.1,0.3,0.5,1],\n",
    "    'subsample':[0.1,0.3,0.5,1]\n",
    "}\n",
    "search = RandomizedSearchCV(x_cfl,param_distributions=params,scoring='neg_log_loss',verbose=10)\n",
    "search.fit(X_train,y_train)\n",
    "print(search.best_params_)"
   ]
  },
  {
   "cell_type": "code",
   "execution_count": 38,
   "metadata": {},
   "outputs": [
    {
     "name": "stdout",
     "output_type": "stream",
     "text": [
      "Train log loss for XGBoostClassifier is 0.00466007092723306\n",
      "Cross validation log loss for XGBoostClassifier is 0.0048621036441629985\n"
     ]
    }
   ],
   "source": [
    "x_clf = XGBClassifier(n_estimators=2000, learning_rate=0.05, colsample_bytree=0.1, max_depth=3, subsample=1)\n",
    "x_clf.fit(X_train,y_train)\n",
    "y_pred = x_clf.predict_proba(X_train)\n",
    "loss = log_loss(y_train.compute(), y_pred)\n",
    "print(\"Train log loss for XGBoostClassifier is \"+str(loss))\n",
    "y_pred = x_clf.predict_proba(X_cv)\n",
    "loss = log_loss(y_cv.compute(), y_pred)\n",
    "print(\"Cross validation log loss for XGBoostClassifier is \"+str(loss))\n",
    "pickle.dump(x_clf, open(\"xgb_model.sav\",'wb'))"
   ]
  },
  {
   "cell_type": "code",
   "execution_count": 39,
   "metadata": {},
   "outputs": [
    {
     "name": "stdout",
     "output_type": "stream",
     "text": [
      "Percentage of misclassified points  0.0590866955498432\n",
      "-------------------------------------------------- Confusion matrix --------------------------------------------------\n"
     ]
    },
    {
     "data": {
      "image/png": "[encoded data removed]",
      "text/plain": [
       "<Figure size 720x360 with 2 Axes>"
      ]
     },
     "metadata": {
      "needs_background": "light"
     },
     "output_type": "display_data"
    },
    {
     "name": "stdout",
     "output_type": "stream",
     "text": [
      "-------------------------------------------------- Precision matrix --------------------------------------------------\n"
     ]
    },
    {
     "data": {
      "image/png": "[encoded data removed]",
      "text/plain": [
       "<Figure size 720x360 with 2 Axes>"
      ]
     },
     "metadata": {
      "needs_background": "light"
     },
     "output_type": "display_data"
    },
    {
     "name": "stdout",
     "output_type": "stream",
     "text": [
      "Sum of columns in precision matrix [1. 1. 1. 1.]\n",
      "-------------------------------------------------- Recall matrix --------------------------------------------------\n"
     ]
    },
    {
     "data": {
      "image/png": "[encoded data removed]",
      "text/plain": [
       "<Figure size 720x360 with 2 Axes>"
      ]
     },
     "metadata": {
      "needs_background": "light"
     },
     "output_type": "display_data"
    },
    {
     "name": "stdout",
     "output_type": "stream",
     "text": [
      "Sum of rows in recall matrix [1. 1. 1. 1.]\n"
     ]
    }
   ],
   "source": [
    "pred_y = x_clf.predict(X_cv)\n",
    "plot_confusion_matrix(y_cv.compute(), pred_y)"
   ]
  },
  {
   "cell_type": "code",
   "execution_count": 40,
   "metadata": {},
   "outputs": [
    {
     "name": "stdout",
     "output_type": "stream",
     "text": [
      "100%|██████████████████████████████████████| 1.52G/1.52G [00:17<00:00, 94.6MB/s]\n",
      "Successfully submitted to Reducing Commercial Aviation Fatalities"
     ]
    }
   ],
   "source": [
    "xgb_test_pilots_data = []\n",
    "for pilot in test_pilots:\n",
    "    xgb_test_pilots_data.append((pilot,'xgb_model.sav','scaler.sav'))\n",
    "\n",
    "with Pool(processes=6) as pool:\n",
    "    test_output = pool.starmap(get_test_output, xgb_test_pilots_data)\n",
    "        \n",
    "test_output = pd.concat(test_output, ignore_index=True)\n",
    "test_output.to_csv(\"xgb_submission.csv\", index=False)\n",
    "!kaggle competitions submit -c reducing-commercial-aviation-fatalities -f xgb_submission.csv -m \"This output was generated by XGBClassifier after featurization\""
   ]
  },
  {
   "cell_type": "markdown",
   "metadata": {},
   "source": [
    "<img src='https://i.imgur.com/ZXA1kzq.png'>"
   ]
  },
  {
   "cell_type": "markdown",
   "metadata": {},
   "source": [
    "## Adaboost Classifier"
   ]
  },
  {
   "cell_type": "code",
   "execution_count": 41,
   "metadata": {},
   "outputs": [
    {
     "name": "stdout",
     "output_type": "stream",
     "text": [
      "Cross validation log_loss for n_estimators =  10 is 0.8680205800553784\n",
      "Cross validation log_loss for n_estimators =  50 is 0.7381363363186694\n",
      "Cross validation log_loss for n_estimators =  100 is 0.674168987835478\n",
      "Cross validation log_loss for n_estimators =  500 is 0.5068583168975078\n",
      "Cross validation log_loss for n_estimators =  1000 is 0.42344619142992507\n",
      "Cross validation log_loss for n_estimators =  2000 is 0.4683820535626646\n"
     ]
    }
   ],
   "source": [
    "estimators=[10,50,100,500,1000,2000]\n",
    "cv_log_error_array=[]\n",
    "for i in estimators:\n",
    "    adb_clf=AdaBoostClassifier(n_estimators=i,random_state=33)\n",
    "    adb_clf.fit(X_train,y_train)\n",
    "    predict_y = adb_clf.predict_proba(X_cv)\n",
    "    loss = log_loss(y_cv, predict_y, labels=adb_clf.classes_, eps=1e-15)\n",
    "    cv_log_error_array.append(loss)\n",
    "    print ('Cross validation log_loss for n_estimators = ',i,'is',loss)"
   ]
  },
  {
   "cell_type": "code",
   "execution_count": 42,
   "metadata": {},
   "outputs": [
    {
     "name": "stdout",
     "output_type": "stream",
     "text": [
      "Percentage of misclassified points  15.10819686141992\n",
      "-------------------------------------------------- Confusion matrix --------------------------------------------------\n"
     ]
    },
    {
     "data": {
      "image/png": "[encoded data removed]",
      "text/plain": [
       "<Figure size 720x360 with 2 Axes>"
      ]
     },
     "metadata": {
      "needs_background": "light"
     },
     "output_type": "display_data"
    },
    {
     "name": "stdout",
     "output_type": "stream",
     "text": [
      "-------------------------------------------------- Precision matrix --------------------------------------------------\n"
     ]
    },
    {
     "data": {
      "image/png": "[encoded data removed]",
      "text/plain": [
       "<Figure size 720x360 with 2 Axes>"
      ]
     },
     "metadata": {
      "needs_background": "light"
     },
     "output_type": "display_data"
    },
    {
     "name": "stdout",
     "output_type": "stream",
     "text": [
      "Sum of columns in precision matrix [1. 1. 1. 1.]\n",
      "-------------------------------------------------- Recall matrix --------------------------------------------------\n"
     ]
    },
    {
     "data": {
      "image/png": "[encoded data removed]",
      "text/plain": [
       "<Figure size 720x360 with 2 Axes>"
      ]
     },
     "metadata": {
      "needs_background": "light"
     },
     "output_type": "display_data"
    },
    {
     "name": "stdout",
     "output_type": "stream",
     "text": [
      "Sum of rows in recall matrix [1. 1. 1. 1.]\n"
     ]
    }
   ],
   "source": [
    "pred_y = adb_clf.predict(X_cv)\n",
    "plot_confusion_matrix(y_cv.compute(), pred_y)"
   ]
  },
  {
   "cell_type": "code",
   "execution_count": 43,
   "metadata": {},
   "outputs": [
    {
     "name": "stdout",
     "output_type": "stream",
     "text": [
      "100%|███████████████████████████████████████| 1.45G/1.45G [00:14<00:00, 109MB/s]\n",
      "Successfully submitted to Reducing Commercial Aviation Fatalities"
     ]
    }
   ],
   "source": [
    "adb_test_pilots_data = []\n",
    "for pilot in test_pilots:\n",
    "    adb_test_pilots_data.append((pilot,'adb_model.sav', 'scaler.sav'))\n",
    "\n",
    "with Pool(processes=6) as pool:\n",
    "    test_output = pool.starmap(get_test_output, adb_test_pilots_data)\n",
    "        \n",
    "test_output = pd.concat(test_output, ignore_index=True)\n",
    "test_output.to_csv(\"adb_submission.csv\", index=False)\n",
    "!kaggle competitions submit -c reducing-commercial-aviation-fatalities -f adb_submission.csv -m \"This output was generated by Adaboost model after featurization\""
   ]
  },
  {
   "cell_type": "markdown",
   "metadata": {},
   "source": [
    "<img src='https://i.imgur.com/XiGAYeZ.png'>"
   ]
  },
  {
   "cell_type": "markdown",
   "metadata": {},
   "source": [
    "## LightGBM Classifier"
   ]
  },
  {
   "cell_type": "code",
   "execution_count": 44,
   "metadata": {},
   "outputs": [
    {
     "name": "stdout",
     "output_type": "stream",
     "text": [
      "{'num_leaves': 550, 'n_estimators': 20, 'min_child_samples': 200, 'learning_rate': 0.1, 'colsample_bytree': 0.3, 'subsample': 1}\n"
     ]
    }
   ],
   "source": [
    "clf = lgb.LGBMClassifier(objective='multiclass',num_classes=4,metric='multi_logloss', class_weight=cw, random_state=10)\n",
    "params = {'learning_rate':[0.01, 0.1, 1],\n",
    " 'n_estimators':[10,25,50,100],\n",
    " 'num_leaves':range(100,1000,50),\n",
    " 'min_child_samples':[10,50,100,200,400],\n",
    " 'colsample_bytree':[0.3,0.5,0.7],\n",
    " 'subsample':[0.7,0.9,1]}\n",
    "search = RandomizedSearchCV(estimator=clf, param_distributions=params, scoring='neg_log_loss', n_jobs=3, random_state=10)\n",
    "print(search.best_params_)"
   ]
  },
  {
   "cell_type": "code",
   "execution_count": 45,
   "metadata": {},
   "outputs": [
    {
     "name": "stdout",
     "output_type": "stream",
     "text": [
      "Train log loss for LGBMClassifier is 0.03071898993483836\n",
      "Cross validation log loss for LGBMClassifier is 0.03073719843977904\n"
     ]
    }
   ],
   "source": [
    "best_params = {\n",
    "    'num_leaves': 550,\n",
    "    'n_estimators': 25,\n",
    "    'min_child_samples':200,\n",
    "    'learning_rate': 0.1,\n",
    "    'colsample_bytree': 0.3,\n",
    "    'subsample':1\n",
    "}\n",
    "lgb_clf = lgb.LGBMClassifier(boosting_type='goss',objective='multiclass',num_classes=4, random_state=10, class_weight=cw, importance_type='gain', **best_params)\n",
    "lgb_clf.fit(X_train,y_train)\n",
    "y_pred = lgb_clf.predict_proba(X_train)\n",
    "loss = log_loss(y_train.compute(), y_pred)\n",
    "print(\"Train log loss for LGBMClassifier is \"+str(loss))\n",
    "y_pred = lgb_clf.predict_proba(X_cv)\n",
    "loss = log_loss(y_cv.compute(), y_pred)\n",
    "print(\"Cross validation log loss for LGBMClassifier is \"+str(loss))\n",
    "pickle.dump(lgb_clf, open(\"lgb_model.sav\",'wb'))"
   ]
  },
  {
   "cell_type": "code",
   "execution_count": 46,
   "metadata": {},
   "outputs": [
    {
     "name": "stdout",
     "output_type": "stream",
     "text": [
      "Percentage of misclassified points  0.1410191509923935\n",
      "-------------------------------------------------- Confusion matrix --------------------------------------------------\n"
     ]
    },
    {
     "data": {
      "image/png": "[encoded data removed]",
      "text/plain": [
       "<Figure size 720x360 with 2 Axes>"
      ]
     },
     "metadata": {
      "needs_background": "light"
     },
     "output_type": "display_data"
    },
    {
     "name": "stdout",
     "output_type": "stream",
     "text": [
      "-------------------------------------------------- Precision matrix --------------------------------------------------\n"
     ]
    },
    {
     "data": {
      "image/png": "[encoded data removed]",
      "text/plain": [
       "<Figure size 720x360 with 2 Axes>"
      ]
     },
     "metadata": {
      "needs_background": "light"
     },
     "output_type": "display_data"
    },
    {
     "name": "stdout",
     "output_type": "stream",
     "text": [
      "Sum of columns in precision matrix [1. 1. 1. 1.]\n",
      "-------------------------------------------------- Recall matrix --------------------------------------------------\n"
     ]
    },
    {
     "data": {
      "image/png": "[encoded data removed]",
      "text/plain": [
       "<Figure size 720x360 with 2 Axes>"
      ]
     },
     "metadata": {
      "needs_background": "light"
     },
     "output_type": "display_data"
    },
    {
     "name": "stdout",
     "output_type": "stream",
     "text": [
      "Sum of rows in recall matrix [1. 1. 1. 1.]\n"
     ]
    }
   ],
   "source": [
    "plot_confusion_matrix(y_cv.compute(), lgb_clf.predict(X_cv))"
   ]
  },
  {
   "cell_type": "code",
   "execution_count": 46,
   "metadata": {},
   "outputs": [],
   "source": [
    "lgb_test_pilots_data = []\n",
    "for pilot in test_pilots:\n",
    "    lgb_test_pilots_data.append((pilot,'lgb_model.sav','scaler.sav'))\n",
    "if __name__ == '__main__':\n",
    "    with Pool(processes=6) as pool:\n",
    "        test_output = pool.starmap(get_test_output, lgb_test_pilots_data)"
   ]
  },
  {
   "cell_type": "code",
   "execution_count": 47,
   "metadata": {},
   "outputs": [
    {
     "name": "stdout",
     "output_type": "stream",
     "text": [
      "100%|██████████████████████████████████████| 1.49G/1.49G [00:29<00:00, 54.5MB/s]\n",
      "Successfully submitted to Reducing Commercial Aviation Fatalities"
     ]
    }
   ],
   "source": [
    "test_output = pd.concat(test_output, ignore_index=True)\n",
    "test_output.to_csv(\"lgb_submission.csv\", index=False)\n",
    "!kaggle competitions submit -c reducing-commercial-aviation-fatalities -f lgb_submission.csv -m \"This output was generated by LightGBM model after featurization\""
   ]
  },
  {
   "cell_type": "markdown",
   "metadata": {},
   "source": [
    "<img src='https://i.imgur.com/KfD3z69.png'>"
   ]
  },
  {
   "cell_type": "markdown",
   "metadata": {},
   "source": [
    "## CatBoost Classifier"
   ]
  },
  {
   "cell_type": "markdown",
   "metadata": {},
   "source": [
    "For CatBoost Classifier, we are reverting the one-hot encoded features to categorical features"
   ]
  },
  {
   "cell_type": "code",
   "execution_count": 48,
   "metadata": {},
   "outputs": [
    {
     "name": "stdout",
     "output_type": "stream",
     "text": [
      "{'n_iterations': 500, 'max_depth': 3, 'learning_rate': 0.1}\n"
     ]
    }
   ],
   "source": [
    "X_train = X_train.compute()\n",
    "X_cv = X_cv.compute()\n",
    "X_train['crew'] = crew_ohe.inverse_transform(X_train[crew_ohe_features])\n",
    "X_cv['crew'] = crew_ohe.inverse_transform(X_cv[crew_ohe_features])\n",
    "X_train.drop(crew_ohe_features, axis=1, inplace=True)\n",
    "X_cv.drop(crew_ohe_features, axis=1, inplace=True)\n",
    "y_train = y_train.compute()\n",
    "y_cv = y_cv.compute()\n",
    "categorical_features_indices = np.where(X_train.dtypes != np.float)[0]\n",
    "clf = CatBoostClassifier(loss_function='MultiClass', random_state=33, class_weights=cw)\n",
    "params = {'learning_rate':[0.01, 0.05, 0.1, 0.5],\n",
    " 'n_iterations':[100,500,1000,2000],\n",
    " 'max_depth':[1,3,5,10]}\n",
    "search = RandomizedSearchCV(estimator=clf, param_distributions=params, scoring='neg_log_loss', n_jobs=3, random_state=10)\n",
    "print(search.best_params_)"
   ]
  },
  {
   "cell_type": "code",
   "execution_count": 49,
   "metadata": {},
   "outputs": [
    {
     "name": "stdout",
     "output_type": "stream",
     "text": [
      "Train log loss for CatBoostClassifier is 0.22513086228263166\n",
      "Cross validation log loss for CatBoostClassifier is 0.22537039797341504\n",
      "Percentage of misclassified points  7.084486578526958\n",
      "-------------------------------------------------- Confusion matrix --------------------------------------------------\n"
     ]
    },
    {
     "data": {
      "image/png": "[encoded data removed]",
      "text/plain": [
       "<Figure size 720x360 with 2 Axes>"
      ]
     },
     "metadata": {
      "needs_background": "light"
     },
     "output_type": "display_data"
    },
    {
     "name": "stdout",
     "output_type": "stream",
     "text": [
      "-------------------------------------------------- Precision matrix --------------------------------------------------\n"
     ]
    },
    {
     "data": {
      "image/png": "[encoded data removed]",
      "text/plain": [
       "<Figure size 720x360 with 2 Axes>"
      ]
     },
     "metadata": {
      "needs_background": "light"
     },
     "output_type": "display_data"
    },
    {
     "name": "stdout",
     "output_type": "stream",
     "text": [
      "Sum of columns in precision matrix [1. 1. 1. 1.]\n",
      "-------------------------------------------------- Recall matrix --------------------------------------------------\n"
     ]
    },
    {
     "data": {
      "image/png": "[encoded data removed]",
      "text/plain": [
       "<Figure size 720x360 with 2 Axes>"
      ]
     },
     "metadata": {
      "needs_background": "light"
     },
     "output_type": "display_data"
    },
    {
     "name": "stdout",
     "output_type": "stream",
     "text": [
      "Sum of rows in recall matrix [1. 1. 1. 1.]\n"
     ]
    }
   ],
   "source": [
    "catb_clf = CatBoostClassifier(iterations=500, depth=3, learning_rate=0.1, loss_function='MultiClass', random_state=33, class_weights=cw)\n",
    "catb_clf.fit(X_train, y_train,cat_features=categorical_features_indices,verbose=0)\n",
    "y_pred = catb_clf.predict_proba(X_train)\n",
    "loss = log_loss(y_train, y_pred)\n",
    "print(\"Train log loss for CatBoostClassifier is \"+str(loss))\n",
    "y_pred = catb_clf.predict_proba(X_cv)\n",
    "loss = log_loss(y_cv, y_pred)\n",
    "print(\"Cross validation log loss for CatBoostClassifier is \"+str(loss))\n",
    "pickle.dump(catb_clf, open('catb_model.sav','wb'))\n",
    "plot_confusion_matrix(y_cv, catb_clf.predict(X_cv))"
   ]
  },
  {
   "cell_type": "code",
   "execution_count": 50,
   "metadata": {},
   "outputs": [],
   "source": [
    "def get_catboost_test_output(pilot, model_file, scaler_file=None):\n",
    "    # Function to generate output for each pilot in given test data\n",
    "    X_test = pd.read_parquet(\"test_new_features/\"+str(pilot)+\".gzip\")\n",
    "    df_pred = pd.DataFrame()\n",
    "    df_pred['id'] = X_test['id']\n",
    "    X_test = X_test.drop(['id'], axis=1)\n",
    "    if scaler_file:\n",
    "        features = X_test.columns\n",
    "        crew_ohe = pickle.load(open('crew_ohe.sav','rb'))\n",
    "        crew_ohe_features = [\"crew_\"+str(i) for i in crew_ohe.categories_[0]]\n",
    "        numerical_features = [feature for feature in features if feature not in crew_ohe_features+['seat']]\n",
    "        scaler = pickle.load(open('scaler.sav', 'rb'))\n",
    "        X_test[numerical_features] = scaler.transform(X_test[numerical_features])\n",
    "        X_test['crew'] = crew_ohe.inverse_transform(X_test[crew_ohe_features])\n",
    "        X_test.drop(crew_ohe_features, axis=1, inplace=True)\n",
    "    X_test = reduce_mem_usage(X_test)\n",
    "    model = pickle.load(open(model_file, 'rb'))\n",
    "    y_pred = model.predict_proba(X_test)\n",
    "    df_pred['A'] = y_pred[:,0]\n",
    "    df_pred['B'] = y_pred[:,3]\n",
    "    df_pred['C'] = y_pred[:,1]\n",
    "    df_pred['D'] = y_pred[:,2]\n",
    "    return df_pred"
   ]
  },
  {
   "cell_type": "code",
   "execution_count": 51,
   "metadata": {},
   "outputs": [
    {
     "name": "stdout",
     "output_type": "stream",
     "text": [
      "100%|██████████████████████████████████████| 1.52G/1.52G [00:17<00:00, 93.6MB/s]\n",
      "Successfully submitted to Reducing Commercial Aviation Fatalities"
     ]
    }
   ],
   "source": [
    "catb_test_pilots_data = []\n",
    "for pilot in test_pilots:\n",
    "    catb_test_pilots_data.append((pilot,'catb_model.sav', 'scaler.sav'))\n",
    "\n",
    "with Pool(processes=6) as pool:\n",
    "    test_output = pool.starmap(get_catboost_test_output, catb_test_pilots_data)\n",
    "        \n",
    "test_output = pd.concat(test_output, ignore_index=True)\n",
    "test_output.to_csv(\"catb_submission.csv\", index=False)\n",
    "!kaggle competitions submit -c reducing-commercial-aviation-fatalities -f catb_submission.csv -m \"This output was generated by Catboost model\""
   ]
  },
  {
   "cell_type": "markdown",
   "metadata": {},
   "source": [
    "<img src='https://i.imgur.com/zTGJ0ow.png'>"
   ]
  },
  {
   "cell_type": "markdown",
   "metadata": {},
   "source": [
    "# Results\n",
    "\n",
    "| Model | CV log loss | Kaggle public score | Kaggle private score | Public leaderboard position | Private leaderboard position |\n",
    "|:-|---|---|---|---|---|\n",
    "| LogisticRegression | 0.8959 | 3.45141 | 3.15338 | 167 | 150 |\n",
    "| GaussianNB | 0.9176 | 0.63480 | 0.68650 | 109 | 43 |\n",
    "| DecisionTreeClassifier | 0.0018 | 2.50777 | 3.49236 | 166 | 152 |\n",
    "| RandomForestClassifier | 0.000204 | 0.36600 | 0.56395 | 18 | 11 |\n",
    "| KNeighboursClassifier | 0.00154 | 4.35032 | 4.61351 | 168 | 153 |\n",
    "| XGBClassifier | 0.0049 | 0.39630 | 0.80004 | 28 | 89 |\n",
    "| AdaBoostClassifier | 0.4234 | 1.30048 | 1.31386 | 143 | 128 |\n",
    "| LightGBMClassifier | 0.03076 | 0.34651 | 0.61582 | 12 | 17 |\n",
    "| CatBoostClassifier | 0.2254 | 0.54158 | 0.94352 | 73 | 114 |"
   ]
  },
  {
   "cell_type": "markdown",
   "metadata": {},
   "source": [
    "## Conclusion\n",
    "\n",
    "RandomForestClassifier model gives the best private score whereas LightGBMClassifier model gives the best public score on Kaggle"
   ]
  },
  {
   "cell_type": "code",
   "execution_count": null,
   "metadata": {},
   "outputs": [],
   "source": []
  }
 ],
 "metadata": {
  "kernelspec": {
   "display_name": "Python 3",
   "language": "python",
   "name": "python3"
  },
  "language_info": {
   "codemirror_mode": {
    "name": "ipython",
    "version": 3
   },
   "file_extension": ".py",
   "mimetype": "text/x-python",
   "name": "python",
   "nbconvert_exporter": "python",
   "pygments_lexer": "ipython3",
   "version": "3.6.8"
  }
 },
 "nbformat": 4,
 "nbformat_minor": 4
}
