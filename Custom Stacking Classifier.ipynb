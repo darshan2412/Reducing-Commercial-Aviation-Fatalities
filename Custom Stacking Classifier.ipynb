{
 "cells": [
  {
   "cell_type": "code",
   "execution_count": 1,
   "metadata": {},
   "outputs": [],
   "source": [
    "import warnings\n",
    "warnings.filterwarnings(\"ignore\")\n",
    "import os\n",
    "import pandas as pd\n",
    "import numpy as np\n",
    "import dask.dataframe as dd\n",
    "from tqdm import tqdm\n",
    "import matplotlib.pyplot as plt\n",
    "import seaborn as sns\n",
    "from scipy import signal,stats,interpolate\n",
    "from biosppy.signals import ecg,resp,eda,eeg\n",
    "from multiprocessing import Pool\n",
    "from sklearn.preprocessing import OneHotEncoder\n",
    "import pickle\n",
    "from sklearn.model_selection import train_test_split\n",
    "from sklearn.preprocessing import StandardScaler\n",
    "from sklearn.utils.class_weight import compute_class_weight\n",
    "from sklearn.metrics import log_loss,confusion_matrix\n",
    "from sklearn.linear_model import LogisticRegression\n",
    "from sklearn.calibration import CalibratedClassifierCV\n",
    "from sklearn.naive_bayes import GaussianNB\n",
    "from sklearn.tree import DecisionTreeClassifier\n",
    "from sklearn.ensemble import RandomForestClassifier, AdaBoostClassifier\n",
    "from sklearn.feature_selection import SelectFromModel\n",
    "from sklearn.neighbors import KNeighborsClassifier\n",
    "from xgboost import XGBClassifier\n",
    "import lightgbm as lgb\n",
    "from catboost import CatBoostClassifier\n",
    "import random"
   ]
  },
  {
   "cell_type": "code",
   "execution_count": 2,
   "metadata": {},
   "outputs": [],
   "source": [
    "def reduce_mem_usage(df):\n",
    "    # Function to reduce memory usage of a pandas dataframe\n",
    "    # https://www.kaggle.com/arjanso/reducing-dataframe-memory-size-by-65\n",
    "    start_mem = df.memory_usage().sum() / 1024**2\n",
    "    for col in df.columns:\n",
    "        col_type = df[col].dtype\n",
    "        \n",
    "        if col_type != object:\n",
    "            c_min = df[col].min()\n",
    "            c_max = df[col].max()\n",
    "            if str(col_type)[:3] == 'int':\n",
    "                if c_min > np.iinfo(np.int8).min and c_max < np.iinfo(np.int8).max:\n",
    "                    df[col] = df[col].astype(np.int8)\n",
    "                elif c_min > np.iinfo(np.int16).min and c_max < np.iinfo(np.int16).max:\n",
    "                    df[col] = df[col].astype(np.int16)\n",
    "                elif c_min > np.iinfo(np.int32).min and c_max < np.iinfo(np.int32).max:\n",
    "                    df[col] = df[col].astype(np.int32)\n",
    "                elif c_min > np.iinfo(np.int64).min and c_max < np.iinfo(np.int64).max:\n",
    "                    df[col] = df[col].astype(np.int64)  \n",
    "            else:\n",
    "                if c_min > np.finfo(np.float16).min and c_max < np.finfo(np.float16).max:\n",
    "                    df[col] = df[col].astype(np.float16)\n",
    "                elif c_min > np.finfo(np.float32).min and c_max < np.finfo(np.float32).max:\n",
    "                    df[col] = df[col].astype(np.float32)\n",
    "                else:\n",
    "                    df[col] = df[col].astype(np.float64)\n",
    "        else:\n",
    "            df[col] = df[col].astype('category')\n",
    "    end_mem = df.memory_usage().sum() / 1024**2\n",
    "    return df"
   ]
  },
  {
   "cell_type": "markdown",
   "metadata": {},
   "source": [
    "### Reading train data"
   ]
  },
  {
   "cell_type": "code",
   "execution_count": 3,
   "metadata": {},
   "outputs": [
    {
     "data": {
      "text/html": [
       "<div>\n",
       "<style scoped>\n",
       "    .dataframe tbody tr th:only-of-type {\n",
       "        vertical-align: middle;\n",
       "    }\n",
       "\n",
       "    .dataframe tbody tr th {\n",
       "        vertical-align: top;\n",
       "    }\n",
       "\n",
       "    .dataframe thead th {\n",
       "        text-align: right;\n",
       "    }\n",
       "</style>\n",
       "<table border=\"1\" class=\"dataframe\">\n",
       "  <thead>\n",
       "    <tr style=\"text-align: right;\">\n",
       "      <th></th>\n",
       "      <th>seat</th>\n",
       "      <th>time</th>\n",
       "      <th>ecg</th>\n",
       "      <th>r</th>\n",
       "      <th>heart_rate</th>\n",
       "      <th>heart_rate_diff</th>\n",
       "      <th>resp_rate</th>\n",
       "      <th>resp_rate_diff</th>\n",
       "      <th>gsr</th>\n",
       "      <th>gsr_diff</th>\n",
       "      <th>...</th>\n",
       "      <th>event</th>\n",
       "      <th>crew_1</th>\n",
       "      <th>crew_2</th>\n",
       "      <th>crew_3</th>\n",
       "      <th>crew_4</th>\n",
       "      <th>crew_5</th>\n",
       "      <th>crew_6</th>\n",
       "      <th>crew_7</th>\n",
       "      <th>crew_8</th>\n",
       "      <th>crew_13</th>\n",
       "    </tr>\n",
       "  </thead>\n",
       "  <tbody>\n",
       "    <tr>\n",
       "      <th>0</th>\n",
       "      <td>1</td>\n",
       "      <td>0.011719</td>\n",
       "      <td>-4520.0</td>\n",
       "      <td>817.705994</td>\n",
       "      <td>-275.059326</td>\n",
       "      <td>0.000000</td>\n",
       "      <td>0.631937</td>\n",
       "      <td>0.000000</td>\n",
       "      <td>388.829987</td>\n",
       "      <td>0.0</td>\n",
       "      <td>...</td>\n",
       "      <td>0</td>\n",
       "      <td>1</td>\n",
       "      <td>0</td>\n",
       "      <td>0</td>\n",
       "      <td>0</td>\n",
       "      <td>0</td>\n",
       "      <td>0</td>\n",
       "      <td>0</td>\n",
       "      <td>0</td>\n",
       "      <td>0</td>\n",
       "    </tr>\n",
       "    <tr>\n",
       "      <th>1</th>\n",
       "      <td>1</td>\n",
       "      <td>0.015625</td>\n",
       "      <td>-4520.0</td>\n",
       "      <td>817.705994</td>\n",
       "      <td>-273.924194</td>\n",
       "      <td>1.135131</td>\n",
       "      <td>0.631433</td>\n",
       "      <td>-0.000504</td>\n",
       "      <td>388.829987</td>\n",
       "      <td>0.0</td>\n",
       "      <td>...</td>\n",
       "      <td>0</td>\n",
       "      <td>1</td>\n",
       "      <td>0</td>\n",
       "      <td>0</td>\n",
       "      <td>0</td>\n",
       "      <td>0</td>\n",
       "      <td>0</td>\n",
       "      <td>0</td>\n",
       "      <td>0</td>\n",
       "      <td>0</td>\n",
       "    </tr>\n",
       "    <tr>\n",
       "      <th>2</th>\n",
       "      <td>1</td>\n",
       "      <td>0.019531</td>\n",
       "      <td>-4520.0</td>\n",
       "      <td>817.705994</td>\n",
       "      <td>-272.791473</td>\n",
       "      <td>1.132734</td>\n",
       "      <td>0.630930</td>\n",
       "      <td>-0.000503</td>\n",
       "      <td>388.829987</td>\n",
       "      <td>0.0</td>\n",
       "      <td>...</td>\n",
       "      <td>0</td>\n",
       "      <td>1</td>\n",
       "      <td>0</td>\n",
       "      <td>0</td>\n",
       "      <td>0</td>\n",
       "      <td>0</td>\n",
       "      <td>0</td>\n",
       "      <td>0</td>\n",
       "      <td>0</td>\n",
       "      <td>0</td>\n",
       "    </tr>\n",
       "    <tr>\n",
       "      <th>3</th>\n",
       "      <td>1</td>\n",
       "      <td>0.023438</td>\n",
       "      <td>-4520.0</td>\n",
       "      <td>817.705994</td>\n",
       "      <td>-271.661133</td>\n",
       "      <td>1.130339</td>\n",
       "      <td>0.630426</td>\n",
       "      <td>-0.000503</td>\n",
       "      <td>388.829987</td>\n",
       "      <td>0.0</td>\n",
       "      <td>...</td>\n",
       "      <td>0</td>\n",
       "      <td>1</td>\n",
       "      <td>0</td>\n",
       "      <td>0</td>\n",
       "      <td>0</td>\n",
       "      <td>0</td>\n",
       "      <td>0</td>\n",
       "      <td>0</td>\n",
       "      <td>0</td>\n",
       "      <td>0</td>\n",
       "    </tr>\n",
       "    <tr>\n",
       "      <th>4</th>\n",
       "      <td>1</td>\n",
       "      <td>0.027344</td>\n",
       "      <td>-4520.0</td>\n",
       "      <td>817.705994</td>\n",
       "      <td>-270.533203</td>\n",
       "      <td>1.127947</td>\n",
       "      <td>0.629923</td>\n",
       "      <td>-0.000503</td>\n",
       "      <td>388.829987</td>\n",
       "      <td>0.0</td>\n",
       "      <td>...</td>\n",
       "      <td>0</td>\n",
       "      <td>1</td>\n",
       "      <td>0</td>\n",
       "      <td>0</td>\n",
       "      <td>0</td>\n",
       "      <td>0</td>\n",
       "      <td>0</td>\n",
       "      <td>0</td>\n",
       "      <td>0</td>\n",
       "      <td>0</td>\n",
       "    </tr>\n",
       "  </tbody>\n",
       "</table>\n",
       "<p>5 rows × 124 columns</p>\n",
       "</div>"
      ],
      "text/plain": [
       "   seat      time     ecg           r  heart_rate  heart_rate_diff  resp_rate  \\\n",
       "0     1  0.011719 -4520.0  817.705994 -275.059326         0.000000   0.631937   \n",
       "1     1  0.015625 -4520.0  817.705994 -273.924194         1.135131   0.631433   \n",
       "2     1  0.019531 -4520.0  817.705994 -272.791473         1.132734   0.630930   \n",
       "3     1  0.023438 -4520.0  817.705994 -271.661133         1.130339   0.630426   \n",
       "4     1  0.027344 -4520.0  817.705994 -270.533203         1.127947   0.629923   \n",
       "\n",
       "   resp_rate_diff         gsr  gsr_diff  ...  event  crew_1  crew_2  crew_3  \\\n",
       "0        0.000000  388.829987       0.0  ...      0       1       0       0   \n",
       "1       -0.000504  388.829987       0.0  ...      0       1       0       0   \n",
       "2       -0.000503  388.829987       0.0  ...      0       1       0       0   \n",
       "3       -0.000503  388.829987       0.0  ...      0       1       0       0   \n",
       "4       -0.000503  388.829987       0.0  ...      0       1       0       0   \n",
       "\n",
       "   crew_4  crew_5  crew_6  crew_7  crew_8  crew_13  \n",
       "0       0       0       0       0       0        0  \n",
       "1       0       0       0       0       0        0  \n",
       "2       0       0       0       0       0        0  \n",
       "3       0       0       0       0       0        0  \n",
       "4       0       0       0       0       0        0  \n",
       "\n",
       "[5 rows x 124 columns]"
      ]
     },
     "execution_count": 3,
     "metadata": {},
     "output_type": "execute_result"
    }
   ],
   "source": [
    "X_train = pd.read_parquet(\"train_new_features.gzip\")\n",
    "X_train.head()"
   ]
  },
  {
   "cell_type": "code",
   "execution_count": 4,
   "metadata": {},
   "outputs": [],
   "source": [
    "X_train = reduce_mem_usage(X_train)\n",
    "y_train = X_train['event']\n",
    "X_train.drop(['event'], axis=1, inplace=True)\n",
    "features = X_train.columns\n",
    "\n",
    "#Splitting data into train and cv\n",
    "X_train,X_cv,y_train,y_cv = train_test_split(X_train,y_train,stratify=y_train, test_size=0.2)\n",
    "crew_ohe = pickle.load(open('crew_ohe.sav','rb'))\n",
    "crew_ohe_features = [\"crew_\"+str(i) for i in crew_ohe.categories_[0]]\n",
    "numerical_features = [feature for feature in features if feature not in crew_ohe_features+['seat']]\n",
    "\n",
    "# Normalization\n",
    "scaler = StandardScaler()\n",
    "X_train[numerical_features] = scaler.fit_transform(X_train[numerical_features])\n",
    "X_cv[numerical_features] = scaler.transform(X_cv[numerical_features])\n",
    "pickle.dump(scaler, open('scaler.sav','wb'))\n",
    "\n",
    "# Computing class weight\n",
    "cw = compute_class_weight(class_weight='balanced', classes=[0,1,2,3], y=y_train.values)\n",
    "cw = {k:v for k,v in enumerate(cw)}"
   ]
  },
  {
   "cell_type": "code",
   "execution_count": 5,
   "metadata": {},
   "outputs": [],
   "source": [
    "def plot_confusion_matrix(test_y, predict_y):\n",
    "    # Function to plot confusion matrix along with precision and recall matrix\n",
    "    C = confusion_matrix(test_y, predict_y)\n",
    "    print(\"Percentage of misclassified points \",(len(test_y)-np.trace(C))/len(test_y)*100)\n",
    "    A =(((C.T)/(C.sum(axis=1))).T)\n",
    "    B =(C/C.sum(axis=0))\n",
    "    labels = [0,1,2,3]\n",
    "    cmap=sns.light_palette(\"green\")\n",
    "    # representing A in heatmap format\n",
    "    print(\"-\"*50, \"Confusion matrix\", \"-\"*50)\n",
    "    plt.figure(figsize=(10,5))\n",
    "    sns.heatmap(C, annot=True, cmap=cmap, xticklabels=labels, yticklabels=labels)\n",
    "    plt.xlabel('Predicted Class')\n",
    "    plt.ylabel('Original Class')\n",
    "    plt.show()\n",
    "\n",
    "    print(\"-\"*50, \"Precision matrix\", \"-\"*50)\n",
    "    plt.figure(figsize=(10,5))\n",
    "    sns.heatmap(B, annot=True, cmap=cmap, xticklabels=labels, yticklabels=labels)\n",
    "    plt.xlabel('Predicted Class')\n",
    "    plt.ylabel('Original Class')\n",
    "    plt.show()\n",
    "    print(\"Sum of columns in precision matrix\",B.sum(axis=0))\n",
    "    \n",
    "    # representing B in heatmap format\n",
    "    print(\"-\"*50, \"Recall matrix\"    , \"-\"*50)\n",
    "    plt.figure(figsize=(10,5))\n",
    "    sns.heatmap(A, annot=True, cmap=cmap, xticklabels=labels, yticklabels=labels)\n",
    "    plt.xlabel('Predicted Class')\n",
    "    plt.ylabel('Original Class')\n",
    "    plt.show()\n",
    "    print(\"Sum of rows in recall matrix\",A.sum(axis=1))"
   ]
  },
  {
   "cell_type": "markdown",
   "metadata": {},
   "source": [
    "### Custom stacking classifier"
   ]
  },
  {
   "cell_type": "code",
   "execution_count": 6,
   "metadata": {},
   "outputs": [],
   "source": [
    "class CustomStackingClassifier():\n",
    "    def __init__(self, base_model_combination, meta_clf):\n",
    "        self.layer1 = []\n",
    "        # Base model combination is a list of tuples with the type of model and the number of models for each type\n",
    "        for combination in base_model_combination:\n",
    "            for i in range(combination[1]):\n",
    "                self.layer1.append(combination[0])\n",
    "        self.layer2 = meta_clf\n",
    "    \n",
    "    def fit_layer1(self, X, y, sample_size, class_weight):\n",
    "        # Function to train base learners of stacking classifier\n",
    "        X['event'] = y\n",
    "        weights = y.map(lambda x: class_weight[x])\n",
    "        weights = weights/sum(weights)\n",
    "        samples = [X.sample(frac = sample_size, replace=True, weights=weights, random_state=33, axis=0) for i in range(len(self.layer1))]\n",
    "        for i in range(len(self.layer1)):\n",
    "            y_sample = samples[i]['event']\n",
    "            X_sample = samples[i].drop(['event'], axis=1)\n",
    "            self.layer1[i].fit(X_sample,y_sample)\n",
    "    \n",
    "    def fit_layer2(self, X, y):\n",
    "        # Function to train meta classifier from the predictions of first layer and the actual output\n",
    "        layer1_pred = pd.DataFrame()\n",
    "        for i in range(len(self.layer1)):\n",
    "            pred = self.layer1[i].predict(X)\n",
    "            layer1_pred[\"model_\"+str(i)] = pred\n",
    "        self.layer2.fit(layer1_pred, y)\n",
    "    \n",
    "    def predict_proba(self, X):\n",
    "        layer1_pred = pd.DataFrame()\n",
    "        for i in range(len(self.layer1)):\n",
    "            pred = self.layer1[i].predict(X)\n",
    "            layer1_pred[\"model_\"+str(i)] = pred\n",
    "        return self.layer2.predict_proba(layer1_pred)\n",
    "    \n",
    "    def predict(self, X):\n",
    "        layer1_pred = pd.DataFrame()\n",
    "        for i in range(len(self.layer1)):\n",
    "            pred = self.layer1[i].predict(X)\n",
    "            layer1_pred[\"model_\"+str(i)] = pred\n",
    "        return self.layer2.predict(layer1_pred)"
   ]
  },
  {
   "cell_type": "code",
   "execution_count": 7,
   "metadata": {},
   "outputs": [],
   "source": [
    "#Base models\n",
    "nb_clf = GaussianNB(var_smoothing=1e-21)\n",
    "r_clf=RandomForestClassifier(random_state=33, n_jobs=-1)\n",
    "xgb_clf = XGBClassifier(n_jobs=-1, random_state=33)\n",
    "lgb_clf = lgb.LGBMClassifier(boosting_type='goss',objective='multiclass',num_classes=4, random_state=33)\n",
    "\n",
    "# After trying out various combinations, these were the base models which were found to give the best result\n",
    "base_model_combination = [(nb_clf, 10),\n",
    "                          (r_clf, 1),\n",
    "                          (xgb_clf, 1),\n",
    "                          (lgb_clf, 1)]\n",
    "meta_clf = LogisticRegression(penalty='l2',class_weight=cw, n_jobs=-1)"
   ]
  },
  {
   "cell_type": "markdown",
   "metadata": {},
   "source": [
    "### Training the model"
   ]
  },
  {
   "cell_type": "code",
   "execution_count": 8,
   "metadata": {},
   "outputs": [
    {
     "name": "stdout",
     "output_type": "stream",
     "text": [
      "Train log loss for custom stacking classifier is 0.013736524985219682\n",
      "Cross validation log loss is 0.015906447802168596\n"
     ]
    }
   ],
   "source": [
    "stacking_clf = CustomStackingClassifier(base_model_combination, meta_clf)\n",
    "X_train_1, X_train_2, y_train_1, y_train_2 = train_test_split(X_train,y_train,stratify=y_train, test_size=0.5)\n",
    "stacking_clf.fit_layer1(X_train_1, y_train_1, sample_size=0.5, class_weight=cw)\n",
    "stacking_clf.fit_layer2(X_train_2, y_train_2)\n",
    "y_pred = stacking_clf.predict_proba(X_train)\n",
    "loss = log_loss(y_train, y_pred)\n",
    "print('Train log loss for custom stacking classifier is',loss)\n",
    "y_pred = stacking_clf.predict_proba(X_cv)\n",
    "loss = log_loss(y_cv, y_pred)\n",
    "print('Cross validation log loss is',loss)\n",
    "pickle.dump(stacking_clf, open('stacking_model.sav', 'wb'))"
   ]
  },
  {
   "cell_type": "code",
   "execution_count": 9,
   "metadata": {},
   "outputs": [
    {
     "name": "stdout",
     "output_type": "stream",
     "text": [
      "Percentage of misclassified points  0.053621781537465905\n",
      "-------------------------------------------------- Confusion matrix --------------------------------------------------\n"
     ]
    },
    {
     "data": {
      "image/png": "[encoded data removed]",
      "text/plain": [
       "<Figure size 720x360 with 2 Axes>"
      ]
     },
     "metadata": {
      "needs_background": "light"
     },
     "output_type": "display_data"
    },
    {
     "name": "stdout",
     "output_type": "stream",
     "text": [
      "-------------------------------------------------- Precision matrix --------------------------------------------------\n"
     ]
    },
    {
     "data": {
      "image/png": "[encoded data removed]",
      "text/plain": [
       "<Figure size 720x360 with 2 Axes>"
      ]
     },
     "metadata": {
      "needs_background": "light"
     },
     "output_type": "display_data"
    },
    {
     "name": "stdout",
     "output_type": "stream",
     "text": [
      "Sum of columns in precision matrix [1. 1. 1. 1.]\n",
      "-------------------------------------------------- Recall matrix --------------------------------------------------\n"
     ]
    },
    {
     "data": {
      "image/png": "[encoded data removed]",
      "text/plain": [
       "<Figure size 720x360 with 2 Axes>"
      ]
     },
     "metadata": {
      "needs_background": "light"
     },
     "output_type": "display_data"
    },
    {
     "name": "stdout",
     "output_type": "stream",
     "text": [
      "Sum of rows in recall matrix [1. 1. 1. 1.]\n"
     ]
    }
   ],
   "source": [
    "plot_confusion_matrix(y_cv, stacking_clf.predict(X_cv))"
   ]
  },
  {
   "cell_type": "markdown",
   "metadata": {},
   "source": [
    "### Prediction on test dataset"
   ]
  },
  {
   "cell_type": "code",
   "execution_count": null,
   "metadata": {},
   "outputs": [],
   "source": [
    "df_test = dd.read_csv('test.csv')\n",
    "exp_mapping = {'CA':0, 'DA':1, 'SS':2, 'LOFT':3}\n",
    "df_test['experiment'] = df_test['experiment'].map(exp_mapping)\n",
    "df_train['pilot'] = df_train['crew'] * 100 + df_train['experiment'] * 10 + df_train['seat']\n",
    "test_pilots = [pilot for pilot in df_test['pilot'].unique()]"
   ]
  },
  {
   "cell_type": "code",
   "execution_count": 10,
   "metadata": {},
   "outputs": [
    {
     "name": "stderr",
     "output_type": "stream",
     "text": [
      "100%|██████████| 18/18 [33:03<00:00, 110.17s/it]\n"
     ]
    }
   ],
   "source": [
    "test_output = []\n",
    "for pilot in tqdm(test_pilots):\n",
    "    # Function to generate output for each pilot in given test data\n",
    "    X_test = pd.read_parquet(\"test_new_features/\"+str(pilot)+\".gzip\")\n",
    "    df_pred = pd.DataFrame()\n",
    "    df_pred['id'] = X_test['id']\n",
    "    X_test = X_test.drop(['id'], axis=1)\n",
    "    features = X_test.columns\n",
    "    crew_ohe = pickle.load(open('crew_ohe.sav','rb'))\n",
    "    crew_ohe_features = [\"crew_\"+str(i) for i in crew_ohe.categories_[0]]\n",
    "    numerical_features = [feature for feature in features if feature not in crew_ohe_features+['seat']]\n",
    "    scaler = pickle.load(open('scaler.sav', 'rb'))\n",
    "    X_test[numerical_features] = scaler.transform(X_test[numerical_features])\n",
    "    X_test = reduce_mem_usage(X_test)\n",
    "    y_pred = stacking_clf.predict_proba(X_test)\n",
    "    df_pred['A'] = y_pred[:,0]\n",
    "    df_pred['B'] = y_pred[:,3]\n",
    "    df_pred['C'] = y_pred[:,1]\n",
    "    df_pred['D'] = y_pred[:,2]\n",
    "    test_output.append(df_pred)"
   ]
  },
  {
   "cell_type": "code",
   "execution_count": 11,
   "metadata": {},
   "outputs": [
    {
     "name": "stdout",
     "output_type": "stream",
     "text": [
      "100%|███████████████████████████████████████| 1.57G/1.57G [00:14<00:00, 113MB/s]\n",
      "Successfully submitted to Reducing Commercial Aviation Fatalities"
     ]
    }
   ],
   "source": [
    "test_output = pd.concat(test_output, ignore_index=True)\n",
    "test_output.to_csv(\"stacking_clf_submission.csv\", index=False)\n",
    "!kaggle competitions submit -c reducing-commercial-aviation-fatalities -f stacking_clf_submission.csv -m \"This output was generated by custom stacking classifier model after tuning for the number and the combination of base models\""
   ]
  },
  {
   "cell_type": "markdown",
   "metadata": {},
   "source": [
    "<img src='https://i.imgur.com/xhfWVQa.png'>"
   ]
  },
  {
   "cell_type": "markdown",
   "metadata": {},
   "source": [
    "Public Leaderboard rank: 128<br>\n",
    "Private Leaderboard rank: 133"
   ]
  },
  {
   "cell_type": "markdown",
   "metadata": {},
   "source": [
    "**Inference:**\n",
    "\n",
    "The custom stacking classifier does not give a better result than the best generic model"
   ]
  },
  {
   "cell_type": "code",
   "execution_count": null,
   "metadata": {},
   "outputs": [],
   "source": []
  }
 ],
 "metadata": {
  "kernelspec": {
   "display_name": "Python 3",
   "language": "python",
   "name": "python3"
  },
  "language_info": {
   "codemirror_mode": {
    "name": "ipython",
    "version": 3
   },
   "file_extension": ".py",
   "mimetype": "text/x-python",
   "name": "python",
   "nbconvert_exporter": "python",
   "pygments_lexer": "ipython3",
   "version": "3.6.8"
  }
 },
 "nbformat": 4,
 "nbformat_minor": 5
}
